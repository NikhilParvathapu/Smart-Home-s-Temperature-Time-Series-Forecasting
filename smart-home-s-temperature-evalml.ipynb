{
 "cells": [
  {
   "cell_type": "markdown",
   "id": "8b6eea6b",
   "metadata": {
    "papermill": {
     "duration": 0.044711,
     "end_time": "2022-05-15T12:24:10.611864",
     "exception": false,
     "start_time": "2022-05-15T12:24:10.567153",
     "status": "completed"
    },
    "tags": []
   },
   "source": [
    "<h1 style=\"color: #021f46\"> Smart Home's Temperature - Time Series Forecasting </h1>"
   ]
  },
  {
   "cell_type": "markdown",
   "id": "02d3f37d",
   "metadata": {
    "papermill": {
     "duration": 0.040433,
     "end_time": "2022-05-15T12:24:10.697390",
     "exception": false,
     "start_time": "2022-05-15T12:24:10.656957",
     "status": "completed"
    },
    "tags": []
   },
   "source": [
    "## Motivation\n",
    "This notebook is my contribution to the Smart Home's Temperature - Time Series Forecasting [competition](https://www.kaggle.com/competitions/smart-homes-temperature-time-series-forecasting/overview).\n",
    "I participate in this competition to improve my level in the field of Time Series Forecasting.\n",
    "\n",
    "## Methodology\n",
    "We will experiment with the performance of [EvalML](https://evalml.alteryx.com/en/stable/index.html) (an Automated Machine Learning (AutoML) Search algorithm) on this dataset.\n",
    "\n",
    "\n",
    "## What you earn\n",
    "After reading this notebook :\n",
    "- You will be how to do Feature Engineering with Time Series data.\n",
    "- You will know how to use EvalML for regression tasks.\n",
    "- And much more..."
   ]
  },
  {
   "cell_type": "code",
   "execution_count": 1,
   "id": "5a01d7a7",
   "metadata": {
    "_cell_guid": "b1076dfc-b9ad-4769-8c92-a6c4dae69d19",
    "_kg_hide-output": true,
    "_uuid": "8f2839f25d086af736a60e9eeb907d3b93b6e0e5",
    "execution": {
     "iopub.execute_input": "2022-05-15T12:24:10.789007Z",
     "iopub.status.busy": "2022-05-15T12:24:10.788667Z",
     "iopub.status.idle": "2022-05-15T12:24:10.800568Z",
     "shell.execute_reply": "2022-05-15T12:24:10.799424Z"
    },
    "papermill": {
     "duration": 0.066108,
     "end_time": "2022-05-15T12:24:10.803939",
     "exception": false,
     "start_time": "2022-05-15T12:24:10.737831",
     "status": "completed"
    },
    "tags": []
   },
   "outputs": [],
   "source": [
    "import numpy as np # linear algebra\n",
    "import pandas as pd # data processing, CSV file I/O (e.g. pd.read_csv)"
   ]
  },
  {
   "cell_type": "markdown",
   "id": "614f83e3",
   "metadata": {
    "papermill": {
     "duration": 0.049359,
     "end_time": "2022-05-15T12:24:10.902672",
     "exception": false,
     "start_time": "2022-05-15T12:24:10.853313",
     "status": "completed"
    },
    "tags": []
   },
   "source": [
    "# Load Data"
   ]
  },
  {
   "cell_type": "code",
   "execution_count": 2,
   "id": "6b156510",
   "metadata": {
    "execution": {
     "iopub.execute_input": "2022-05-15T12:24:10.988266Z",
     "iopub.status.busy": "2022-05-15T12:24:10.987638Z",
     "iopub.status.idle": "2022-05-15T12:24:11.039757Z",
     "shell.execute_reply": "2022-05-15T12:24:11.038964Z"
    },
    "papermill": {
     "duration": 0.100083,
     "end_time": "2022-05-15T12:24:11.044286",
     "exception": false,
     "start_time": "2022-05-15T12:24:10.944203",
     "status": "completed"
    },
    "tags": []
   },
   "outputs": [
    {
     "data": {
      "text/plain": [
       "((2764, 19), (1373, 18))"
      ]
     },
     "execution_count": 2,
     "metadata": {},
     "output_type": "execute_result"
    }
   ],
   "source": [
    "train=pd.read_csv('../input/smart-homes-temperature-time-series-forecasting/train.csv')\n",
    "test=pd.read_csv('../input/smart-homes-temperature-time-series-forecasting/test.csv')\n",
    "\n",
    "train.shape, test.shape"
   ]
  },
  {
   "cell_type": "markdown",
   "id": "b72d8d70",
   "metadata": {
    "papermill": {
     "duration": 0.049719,
     "end_time": "2022-05-15T12:24:11.143393",
     "exception": false,
     "start_time": "2022-05-15T12:24:11.093674",
     "status": "completed"
    },
    "tags": []
   },
   "source": [
    "# Understand Data"
   ]
  },
  {
   "cell_type": "code",
   "execution_count": 3,
   "id": "3ff431aa",
   "metadata": {
    "execution": {
     "iopub.execute_input": "2022-05-15T12:24:11.231632Z",
     "iopub.status.busy": "2022-05-15T12:24:11.230934Z",
     "iopub.status.idle": "2022-05-15T12:24:11.275366Z",
     "shell.execute_reply": "2022-05-15T12:24:11.274573Z"
    },
    "papermill": {
     "duration": 0.089606,
     "end_time": "2022-05-15T12:24:11.277620",
     "exception": false,
     "start_time": "2022-05-15T12:24:11.188014",
     "status": "completed"
    },
    "tags": []
   },
   "outputs": [
    {
     "data": {
      "text/html": [
       "<div>\n",
       "<style scoped>\n",
       "    .dataframe tbody tr th:only-of-type {\n",
       "        vertical-align: middle;\n",
       "    }\n",
       "\n",
       "    .dataframe tbody tr th {\n",
       "        vertical-align: top;\n",
       "    }\n",
       "\n",
       "    .dataframe thead th {\n",
       "        text-align: right;\n",
       "    }\n",
       "</style>\n",
       "<table border=\"1\" class=\"dataframe\">\n",
       "  <thead>\n",
       "    <tr style=\"text-align: right;\">\n",
       "      <th></th>\n",
       "      <th>Id</th>\n",
       "      <th>Date</th>\n",
       "      <th>Time</th>\n",
       "      <th>CO2_(dinning-room)</th>\n",
       "      <th>CO2_room</th>\n",
       "      <th>Relative_humidity_(dinning-room)</th>\n",
       "      <th>Relative_humidity_room</th>\n",
       "      <th>Lighting_(dinning-room)</th>\n",
       "      <th>Lighting_room</th>\n",
       "      <th>Meteo_Rain</th>\n",
       "      <th>Meteo_Sun_dusk</th>\n",
       "      <th>Meteo_Wind</th>\n",
       "      <th>Meteo_Sun_light_in_west_facade</th>\n",
       "      <th>Meteo_Sun_light_in_east_facade</th>\n",
       "      <th>Meteo_Sun_light_in_south_facade</th>\n",
       "      <th>Meteo_Sun_irradiance</th>\n",
       "      <th>Outdoor_relative_humidity_Sensor</th>\n",
       "      <th>Day_of_the_week</th>\n",
       "      <th>Indoor_temperature_room</th>\n",
       "    </tr>\n",
       "  </thead>\n",
       "  <tbody>\n",
       "    <tr>\n",
       "      <th>0</th>\n",
       "      <td>0</td>\n",
       "      <td>13/03/2012</td>\n",
       "      <td>11:45</td>\n",
       "      <td>216.560</td>\n",
       "      <td>221.920</td>\n",
       "      <td>39.9125</td>\n",
       "      <td>42.4150</td>\n",
       "      <td>81.6650</td>\n",
       "      <td>113.520</td>\n",
       "      <td>0.0</td>\n",
       "      <td>623.360</td>\n",
       "      <td>1.42625</td>\n",
       "      <td>9690.24</td>\n",
       "      <td>12604.20</td>\n",
       "      <td>95436.8</td>\n",
       "      <td>758.880</td>\n",
       "      <td>48.3750</td>\n",
       "      <td>2.0</td>\n",
       "      <td>17.8275</td>\n",
       "    </tr>\n",
       "    <tr>\n",
       "      <th>1</th>\n",
       "      <td>1</td>\n",
       "      <td>13/03/2012</td>\n",
       "      <td>12:00</td>\n",
       "      <td>219.947</td>\n",
       "      <td>220.363</td>\n",
       "      <td>39.9267</td>\n",
       "      <td>42.2453</td>\n",
       "      <td>81.7413</td>\n",
       "      <td>113.605</td>\n",
       "      <td>0.0</td>\n",
       "      <td>623.211</td>\n",
       "      <td>1.59200</td>\n",
       "      <td>11022.00</td>\n",
       "      <td>10787.20</td>\n",
       "      <td>95436.8</td>\n",
       "      <td>762.069</td>\n",
       "      <td>47.8080</td>\n",
       "      <td>2.0</td>\n",
       "      <td>18.1207</td>\n",
       "    </tr>\n",
       "    <tr>\n",
       "      <th>2</th>\n",
       "      <td>2</td>\n",
       "      <td>13/03/2012</td>\n",
       "      <td>12:15</td>\n",
       "      <td>219.403</td>\n",
       "      <td>218.933</td>\n",
       "      <td>39.7720</td>\n",
       "      <td>42.2267</td>\n",
       "      <td>81.4240</td>\n",
       "      <td>113.600</td>\n",
       "      <td>0.0</td>\n",
       "      <td>622.656</td>\n",
       "      <td>1.89133</td>\n",
       "      <td>13960.50</td>\n",
       "      <td>9669.63</td>\n",
       "      <td>95398.6</td>\n",
       "      <td>766.251</td>\n",
       "      <td>47.4320</td>\n",
       "      <td>2.0</td>\n",
       "      <td>18.4367</td>\n",
       "    </tr>\n",
       "    <tr>\n",
       "      <th>3</th>\n",
       "      <td>3</td>\n",
       "      <td>13/03/2012</td>\n",
       "      <td>12:30</td>\n",
       "      <td>218.613</td>\n",
       "      <td>217.045</td>\n",
       "      <td>39.7760</td>\n",
       "      <td>42.0987</td>\n",
       "      <td>81.5013</td>\n",
       "      <td>113.344</td>\n",
       "      <td>0.0</td>\n",
       "      <td>622.571</td>\n",
       "      <td>1.82800</td>\n",
       "      <td>18511.20</td>\n",
       "      <td>9648.13</td>\n",
       "      <td>95360.3</td>\n",
       "      <td>766.037</td>\n",
       "      <td>47.0240</td>\n",
       "      <td>2.0</td>\n",
       "      <td>18.7513</td>\n",
       "    </tr>\n",
       "    <tr>\n",
       "      <th>4</th>\n",
       "      <td>4</td>\n",
       "      <td>13/03/2012</td>\n",
       "      <td>12:45</td>\n",
       "      <td>217.714</td>\n",
       "      <td>216.080</td>\n",
       "      <td>39.7757</td>\n",
       "      <td>42.0686</td>\n",
       "      <td>81.4657</td>\n",
       "      <td>113.034</td>\n",
       "      <td>0.0</td>\n",
       "      <td>622.400</td>\n",
       "      <td>2.36071</td>\n",
       "      <td>26349.00</td>\n",
       "      <td>9208.32</td>\n",
       "      <td>95354.9</td>\n",
       "      <td>762.743</td>\n",
       "      <td>45.4743</td>\n",
       "      <td>2.0</td>\n",
       "      <td>19.0414</td>\n",
       "    </tr>\n",
       "  </tbody>\n",
       "</table>\n",
       "</div>"
      ],
      "text/plain": [
       "   Id        Date   Time  CO2_(dinning-room)  CO2_room  \\\n",
       "0   0  13/03/2012  11:45             216.560   221.920   \n",
       "1   1  13/03/2012  12:00             219.947   220.363   \n",
       "2   2  13/03/2012  12:15             219.403   218.933   \n",
       "3   3  13/03/2012  12:30             218.613   217.045   \n",
       "4   4  13/03/2012  12:45             217.714   216.080   \n",
       "\n",
       "   Relative_humidity_(dinning-room)  Relative_humidity_room  \\\n",
       "0                           39.9125                 42.4150   \n",
       "1                           39.9267                 42.2453   \n",
       "2                           39.7720                 42.2267   \n",
       "3                           39.7760                 42.0987   \n",
       "4                           39.7757                 42.0686   \n",
       "\n",
       "   Lighting_(dinning-room)  Lighting_room  Meteo_Rain  Meteo_Sun_dusk  \\\n",
       "0                  81.6650        113.520         0.0         623.360   \n",
       "1                  81.7413        113.605         0.0         623.211   \n",
       "2                  81.4240        113.600         0.0         622.656   \n",
       "3                  81.5013        113.344         0.0         622.571   \n",
       "4                  81.4657        113.034         0.0         622.400   \n",
       "\n",
       "   Meteo_Wind  Meteo_Sun_light_in_west_facade  Meteo_Sun_light_in_east_facade  \\\n",
       "0     1.42625                         9690.24                        12604.20   \n",
       "1     1.59200                        11022.00                        10787.20   \n",
       "2     1.89133                        13960.50                         9669.63   \n",
       "3     1.82800                        18511.20                         9648.13   \n",
       "4     2.36071                        26349.00                         9208.32   \n",
       "\n",
       "   Meteo_Sun_light_in_south_facade  Meteo_Sun_irradiance  \\\n",
       "0                          95436.8               758.880   \n",
       "1                          95436.8               762.069   \n",
       "2                          95398.6               766.251   \n",
       "3                          95360.3               766.037   \n",
       "4                          95354.9               762.743   \n",
       "\n",
       "   Outdoor_relative_humidity_Sensor  Day_of_the_week  Indoor_temperature_room  \n",
       "0                           48.3750              2.0                  17.8275  \n",
       "1                           47.8080              2.0                  18.1207  \n",
       "2                           47.4320              2.0                  18.4367  \n",
       "3                           47.0240              2.0                  18.7513  \n",
       "4                           45.4743              2.0                  19.0414  "
      ]
     },
     "execution_count": 3,
     "metadata": {},
     "output_type": "execute_result"
    }
   ],
   "source": [
    "train.head()"
   ]
  },
  {
   "cell_type": "code",
   "execution_count": 4,
   "id": "21037e32",
   "metadata": {
    "execution": {
     "iopub.execute_input": "2022-05-15T12:24:11.365705Z",
     "iopub.status.busy": "2022-05-15T12:24:11.365029Z",
     "iopub.status.idle": "2022-05-15T12:24:11.394799Z",
     "shell.execute_reply": "2022-05-15T12:24:11.394180Z"
    },
    "papermill": {
     "duration": 0.078315,
     "end_time": "2022-05-15T12:24:11.398202",
     "exception": false,
     "start_time": "2022-05-15T12:24:11.319887",
     "status": "completed"
    },
    "tags": []
   },
   "outputs": [
    {
     "data": {
      "text/html": [
       "<div>\n",
       "<style scoped>\n",
       "    .dataframe tbody tr th:only-of-type {\n",
       "        vertical-align: middle;\n",
       "    }\n",
       "\n",
       "    .dataframe tbody tr th {\n",
       "        vertical-align: top;\n",
       "    }\n",
       "\n",
       "    .dataframe thead th {\n",
       "        text-align: right;\n",
       "    }\n",
       "</style>\n",
       "<table border=\"1\" class=\"dataframe\">\n",
       "  <thead>\n",
       "    <tr style=\"text-align: right;\">\n",
       "      <th></th>\n",
       "      <th>Id</th>\n",
       "      <th>Date</th>\n",
       "      <th>Time</th>\n",
       "      <th>CO2_(dinning-room)</th>\n",
       "      <th>CO2_room</th>\n",
       "      <th>Relative_humidity_(dinning-room)</th>\n",
       "      <th>Relative_humidity_room</th>\n",
       "      <th>Lighting_(dinning-room)</th>\n",
       "      <th>Lighting_room</th>\n",
       "      <th>Meteo_Rain</th>\n",
       "      <th>Meteo_Sun_dusk</th>\n",
       "      <th>Meteo_Wind</th>\n",
       "      <th>Meteo_Sun_light_in_west_facade</th>\n",
       "      <th>Meteo_Sun_light_in_east_facade</th>\n",
       "      <th>Meteo_Sun_light_in_south_facade</th>\n",
       "      <th>Meteo_Sun_irradiance</th>\n",
       "      <th>Outdoor_relative_humidity_Sensor</th>\n",
       "      <th>Day_of_the_week</th>\n",
       "    </tr>\n",
       "  </thead>\n",
       "  <tbody>\n",
       "    <tr>\n",
       "      <th>0</th>\n",
       "      <td>2764</td>\n",
       "      <td>18/04/2012</td>\n",
       "      <td>00:00</td>\n",
       "      <td>207.840</td>\n",
       "      <td>206.560</td>\n",
       "      <td>31.5800</td>\n",
       "      <td>30.1600</td>\n",
       "      <td>11.7200</td>\n",
       "      <td>14.1600</td>\n",
       "      <td>0.0</td>\n",
       "      <td>0.65</td>\n",
       "      <td>0.000000</td>\n",
       "      <td>0.0</td>\n",
       "      <td>0.0</td>\n",
       "      <td>0.0</td>\n",
       "      <td>-3.12000</td>\n",
       "      <td>39.0800</td>\n",
       "      <td>3.0</td>\n",
       "    </tr>\n",
       "    <tr>\n",
       "      <th>1</th>\n",
       "      <td>2765</td>\n",
       "      <td>18/04/2012</td>\n",
       "      <td>00:15</td>\n",
       "      <td>207.499</td>\n",
       "      <td>206.101</td>\n",
       "      <td>31.6240</td>\n",
       "      <td>30.0613</td>\n",
       "      <td>11.5240</td>\n",
       "      <td>14.7600</td>\n",
       "      <td>0.0</td>\n",
       "      <td>0.65</td>\n",
       "      <td>0.000000</td>\n",
       "      <td>0.0</td>\n",
       "      <td>0.0</td>\n",
       "      <td>0.0</td>\n",
       "      <td>-2.80800</td>\n",
       "      <td>38.9680</td>\n",
       "      <td>3.0</td>\n",
       "    </tr>\n",
       "    <tr>\n",
       "      <th>2</th>\n",
       "      <td>2766</td>\n",
       "      <td>18/04/2012</td>\n",
       "      <td>00:30</td>\n",
       "      <td>207.360</td>\n",
       "      <td>206.805</td>\n",
       "      <td>31.6507</td>\n",
       "      <td>30.1773</td>\n",
       "      <td>11.6220</td>\n",
       "      <td>14.9547</td>\n",
       "      <td>0.0</td>\n",
       "      <td>0.65</td>\n",
       "      <td>0.088000</td>\n",
       "      <td>0.0</td>\n",
       "      <td>0.0</td>\n",
       "      <td>0.0</td>\n",
       "      <td>-2.96400</td>\n",
       "      <td>38.9467</td>\n",
       "      <td>3.0</td>\n",
       "    </tr>\n",
       "    <tr>\n",
       "      <th>3</th>\n",
       "      <td>2767</td>\n",
       "      <td>18/04/2012</td>\n",
       "      <td>00:45</td>\n",
       "      <td>207.445</td>\n",
       "      <td>206.325</td>\n",
       "      <td>31.6987</td>\n",
       "      <td>30.2560</td>\n",
       "      <td>11.7847</td>\n",
       "      <td>15.0520</td>\n",
       "      <td>0.0</td>\n",
       "      <td>0.65</td>\n",
       "      <td>0.127333</td>\n",
       "      <td>0.0</td>\n",
       "      <td>0.0</td>\n",
       "      <td>0.0</td>\n",
       "      <td>-3.02933</td>\n",
       "      <td>39.0760</td>\n",
       "      <td>3.0</td>\n",
       "    </tr>\n",
       "    <tr>\n",
       "      <th>4</th>\n",
       "      <td>2768</td>\n",
       "      <td>18/04/2012</td>\n",
       "      <td>01:00</td>\n",
       "      <td>207.840</td>\n",
       "      <td>205.952</td>\n",
       "      <td>31.7707</td>\n",
       "      <td>30.3840</td>\n",
       "      <td>11.5887</td>\n",
       "      <td>15.2147</td>\n",
       "      <td>0.0</td>\n",
       "      <td>0.65</td>\n",
       "      <td>0.000000</td>\n",
       "      <td>0.0</td>\n",
       "      <td>0.0</td>\n",
       "      <td>0.0</td>\n",
       "      <td>-2.88600</td>\n",
       "      <td>40.0413</td>\n",
       "      <td>3.0</td>\n",
       "    </tr>\n",
       "  </tbody>\n",
       "</table>\n",
       "</div>"
      ],
      "text/plain": [
       "     Id        Date   Time  CO2_(dinning-room)  CO2_room  \\\n",
       "0  2764  18/04/2012  00:00             207.840   206.560   \n",
       "1  2765  18/04/2012  00:15             207.499   206.101   \n",
       "2  2766  18/04/2012  00:30             207.360   206.805   \n",
       "3  2767  18/04/2012  00:45             207.445   206.325   \n",
       "4  2768  18/04/2012  01:00             207.840   205.952   \n",
       "\n",
       "   Relative_humidity_(dinning-room)  Relative_humidity_room  \\\n",
       "0                           31.5800                 30.1600   \n",
       "1                           31.6240                 30.0613   \n",
       "2                           31.6507                 30.1773   \n",
       "3                           31.6987                 30.2560   \n",
       "4                           31.7707                 30.3840   \n",
       "\n",
       "   Lighting_(dinning-room)  Lighting_room  Meteo_Rain  Meteo_Sun_dusk  \\\n",
       "0                  11.7200        14.1600         0.0            0.65   \n",
       "1                  11.5240        14.7600         0.0            0.65   \n",
       "2                  11.6220        14.9547         0.0            0.65   \n",
       "3                  11.7847        15.0520         0.0            0.65   \n",
       "4                  11.5887        15.2147         0.0            0.65   \n",
       "\n",
       "   Meteo_Wind  Meteo_Sun_light_in_west_facade  Meteo_Sun_light_in_east_facade  \\\n",
       "0    0.000000                             0.0                             0.0   \n",
       "1    0.000000                             0.0                             0.0   \n",
       "2    0.088000                             0.0                             0.0   \n",
       "3    0.127333                             0.0                             0.0   \n",
       "4    0.000000                             0.0                             0.0   \n",
       "\n",
       "   Meteo_Sun_light_in_south_facade  Meteo_Sun_irradiance  \\\n",
       "0                              0.0              -3.12000   \n",
       "1                              0.0              -2.80800   \n",
       "2                              0.0              -2.96400   \n",
       "3                              0.0              -3.02933   \n",
       "4                              0.0              -2.88600   \n",
       "\n",
       "   Outdoor_relative_humidity_Sensor  Day_of_the_week  \n",
       "0                           39.0800              3.0  \n",
       "1                           38.9680              3.0  \n",
       "2                           38.9467              3.0  \n",
       "3                           39.0760              3.0  \n",
       "4                           40.0413              3.0  "
      ]
     },
     "execution_count": 4,
     "metadata": {},
     "output_type": "execute_result"
    }
   ],
   "source": [
    "test.head()"
   ]
  },
  {
   "cell_type": "code",
   "execution_count": 5,
   "id": "a3c37d73",
   "metadata": {
    "execution": {
     "iopub.execute_input": "2022-05-15T12:24:11.491859Z",
     "iopub.status.busy": "2022-05-15T12:24:11.491197Z",
     "iopub.status.idle": "2022-05-15T12:24:11.522888Z",
     "shell.execute_reply": "2022-05-15T12:24:11.521864Z"
    },
    "papermill": {
     "duration": 0.079388,
     "end_time": "2022-05-15T12:24:11.525763",
     "exception": false,
     "start_time": "2022-05-15T12:24:11.446375",
     "status": "completed"
    },
    "tags": []
   },
   "outputs": [
    {
     "name": "stdout",
     "output_type": "stream",
     "text": [
      "<class 'pandas.core.frame.DataFrame'>\n",
      "RangeIndex: 2764 entries, 0 to 2763\n",
      "Data columns (total 19 columns):\n",
      " #   Column                            Non-Null Count  Dtype  \n",
      "---  ------                            --------------  -----  \n",
      " 0   Id                                2764 non-null   int64  \n",
      " 1   Date                              2764 non-null   object \n",
      " 2   Time                              2764 non-null   object \n",
      " 3   CO2_(dinning-room)                2764 non-null   float64\n",
      " 4   CO2_room                          2764 non-null   float64\n",
      " 5   Relative_humidity_(dinning-room)  2764 non-null   float64\n",
      " 6   Relative_humidity_room            2764 non-null   float64\n",
      " 7   Lighting_(dinning-room)           2764 non-null   float64\n",
      " 8   Lighting_room                     2764 non-null   float64\n",
      " 9   Meteo_Rain                        2764 non-null   float64\n",
      " 10  Meteo_Sun_dusk                    2764 non-null   float64\n",
      " 11  Meteo_Wind                        2764 non-null   float64\n",
      " 12  Meteo_Sun_light_in_west_facade    2764 non-null   float64\n",
      " 13  Meteo_Sun_light_in_east_facade    2764 non-null   float64\n",
      " 14  Meteo_Sun_light_in_south_facade   2764 non-null   float64\n",
      " 15  Meteo_Sun_irradiance              2764 non-null   float64\n",
      " 16  Outdoor_relative_humidity_Sensor  2764 non-null   float64\n",
      " 17  Day_of_the_week                   2764 non-null   float64\n",
      " 18  Indoor_temperature_room           2764 non-null   float64\n",
      "dtypes: float64(16), int64(1), object(2)\n",
      "memory usage: 410.4+ KB\n"
     ]
    }
   ],
   "source": [
    "train.info()"
   ]
  },
  {
   "cell_type": "markdown",
   "id": "cd777136",
   "metadata": {
    "papermill": {
     "duration": 0.041993,
     "end_time": "2022-05-15T12:24:11.614819",
     "exception": false,
     "start_time": "2022-05-15T12:24:11.572826",
     "status": "completed"
    },
    "tags": []
   },
   "source": [
    "# Feature Engineering"
   ]
  },
  {
   "cell_type": "markdown",
   "id": "485d77f5",
   "metadata": {
    "papermill": {
     "duration": 0.043438,
     "end_time": "2022-05-15T12:24:11.705690",
     "exception": false,
     "start_time": "2022-05-15T12:24:11.662252",
     "status": "completed"
    },
    "tags": []
   },
   "source": [
    "FE credit: @gauravduttakiit [work](https://www.kaggle.com/code/gauravduttakiit/smart-home-s-temperature-flaml-mae)"
   ]
  },
  {
   "cell_type": "code",
   "execution_count": 6,
   "id": "1aa090c8",
   "metadata": {
    "_kg_hide-output": true,
    "execution": {
     "iopub.execute_input": "2022-05-15T12:24:11.794974Z",
     "iopub.status.busy": "2022-05-15T12:24:11.794407Z",
     "iopub.status.idle": "2022-05-15T12:24:25.106571Z",
     "shell.execute_reply": "2022-05-15T12:24:25.105916Z"
    },
    "papermill": {
     "duration": 13.36016,
     "end_time": "2022-05-15T12:24:25.108849",
     "exception": false,
     "start_time": "2022-05-15T12:24:11.748689",
     "status": "completed"
    },
    "tags": []
   },
   "outputs": [
    {
     "name": "stdout",
     "output_type": "stream",
     "text": [
      "Collecting fast_ml\r\n",
      "  Downloading fast_ml-3.68-py3-none-any.whl (42 kB)\r\n",
      "\u001b[2K     \u001b[90m━━━━━━━━━━━━━━━━━━━━━━━━━━━━━━━━━━━━━━━\u001b[0m \u001b[32m42.1/42.1 KB\u001b[0m \u001b[31m468.7 kB/s\u001b[0m eta \u001b[36m0:00:00\u001b[0m\r\n",
      "\u001b[?25hInstalling collected packages: fast_ml\r\n",
      "Successfully installed fast_ml-3.68\r\n",
      "\u001b[33mWARNING: Running pip as the 'root' user can result in broken permissions and conflicting behaviour with the system package manager. It is recommended to use a virtual environment instead: https://pip.pypa.io/warnings/venv\u001b[0m\u001b[33m\r\n",
      "\u001b[0m"
     ]
    }
   ],
   "source": [
    "!pip install fast_ml"
   ]
  },
  {
   "cell_type": "code",
   "execution_count": 7,
   "id": "d920c09d",
   "metadata": {
    "execution": {
     "iopub.execute_input": "2022-05-15T12:24:25.200453Z",
     "iopub.status.busy": "2022-05-15T12:24:25.200151Z",
     "iopub.status.idle": "2022-05-15T12:24:25.210443Z",
     "shell.execute_reply": "2022-05-15T12:24:25.209828Z"
    },
    "papermill": {
     "duration": 0.058861,
     "end_time": "2022-05-15T12:24:25.212482",
     "exception": false,
     "start_time": "2022-05-15T12:24:25.153621",
     "status": "completed"
    },
    "tags": []
   },
   "outputs": [],
   "source": [
    "from fast_ml.feature_engineering import FeatureEngineering_DateTime\n",
    "dt_fe = FeatureEngineering_DateTime()\n",
    "\n",
    "def features_eng(data):\n",
    "    # Step 1\n",
    "    data['Date']=data['Date'].copy() + ' ' + data['Time']\n",
    "    data['Date']=pd.to_datetime(data['Date'])\n",
    "    data=data.drop(['Time'],axis=1)\n",
    "    \n",
    "    # Step 2\n",
    "    dt_fe.fit(data, datetime_variables=['Date'])\n",
    "    data = dt_fe.transform(data)\n",
    "    \n",
    "    return data"
   ]
  },
  {
   "cell_type": "code",
   "execution_count": 8,
   "id": "b0d53242",
   "metadata": {
    "execution": {
     "iopub.execute_input": "2022-05-15T12:24:25.303361Z",
     "iopub.status.busy": "2022-05-15T12:24:25.303067Z",
     "iopub.status.idle": "2022-05-15T12:24:25.779693Z",
     "shell.execute_reply": "2022-05-15T12:24:25.777699Z"
    },
    "papermill": {
     "duration": 0.524284,
     "end_time": "2022-05-15T12:24:25.781739",
     "exception": false,
     "start_time": "2022-05-15T12:24:25.257455",
     "status": "completed"
    },
    "tags": []
   },
   "outputs": [
    {
     "name": "stderr",
     "output_type": "stream",
     "text": [
      "/opt/conda/lib/python3.7/site-packages/fast_ml/feature_engineering.py:382: FutureWarning: Series.dt.weekofyear and Series.dt.week have been deprecated.  Please use Series.dt.isocalendar().week instead.\n",
      "  df[pfx+f] = getattr(df[var].dt, f)\n"
     ]
    }
   ],
   "source": [
    "train = features_eng(train)\n",
    "test = features_eng(test)"
   ]
  },
  {
   "cell_type": "markdown",
   "id": "79533440",
   "metadata": {
    "papermill": {
     "duration": 0.044621,
     "end_time": "2022-05-15T12:24:25.872389",
     "exception": false,
     "start_time": "2022-05-15T12:24:25.827768",
     "status": "completed"
    },
    "tags": []
   },
   "source": [
    "# Data Clean"
   ]
  },
  {
   "cell_type": "markdown",
   "id": "f5e90583",
   "metadata": {
    "papermill": {
     "duration": 0.044028,
     "end_time": "2022-05-15T12:24:25.962174",
     "exception": false,
     "start_time": "2022-05-15T12:24:25.918146",
     "status": "completed"
    },
    "tags": []
   },
   "source": [
    "Copy and edit from : @gauravduttakiit [work](https://www.kaggle.com/code/gauravduttakiit/smart-home-s-temperature-flaml-mae)"
   ]
  },
  {
   "cell_type": "code",
   "execution_count": 9,
   "id": "df38520b",
   "metadata": {
    "execution": {
     "iopub.execute_input": "2022-05-15T12:24:26.055654Z",
     "iopub.status.busy": "2022-05-15T12:24:26.054666Z",
     "iopub.status.idle": "2022-05-15T12:24:26.076073Z",
     "shell.execute_reply": "2022-05-15T12:24:26.075432Z"
    },
    "papermill": {
     "duration": 0.070991,
     "end_time": "2022-05-15T12:24:26.078050",
     "exception": false,
     "start_time": "2022-05-15T12:24:26.007059",
     "status": "completed"
    },
    "tags": []
   },
   "outputs": [
    {
     "data": {
      "text/plain": [
       "['Id',\n",
       " 'Date',\n",
       " 'Date:year',\n",
       " 'Date:is_month_start',\n",
       " 'Date:is_quarter_start',\n",
       " 'Date:is_year_end',\n",
       " 'Date:is_year_start',\n",
       " 'Date:second']"
      ]
     },
     "execution_count": 9,
     "metadata": {},
     "output_type": "execute_result"
    }
   ],
   "source": [
    "nunique_train=train.nunique().reset_index()\n",
    "remove_col=nunique_train[(nunique_train[0]==len(train)) | (nunique_train[0]==0) | (nunique_train[0]==1) ]['index'].tolist()\n",
    "remove_col"
   ]
  },
  {
   "cell_type": "code",
   "execution_count": 10,
   "id": "3db1a121",
   "metadata": {
    "execution": {
     "iopub.execute_input": "2022-05-15T12:24:26.172145Z",
     "iopub.status.busy": "2022-05-15T12:24:26.171613Z",
     "iopub.status.idle": "2022-05-15T12:24:26.179343Z",
     "shell.execute_reply": "2022-05-15T12:24:26.178759Z"
    },
    "papermill": {
     "duration": 0.056649,
     "end_time": "2022-05-15T12:24:26.181446",
     "exception": false,
     "start_time": "2022-05-15T12:24:26.124797",
     "status": "completed"
    },
    "tags": []
   },
   "outputs": [],
   "source": [
    "def data_clean(data):\n",
    "    # Step 1\n",
    "    data=data.drop(remove_col,axis=1)\n",
    "    \n",
    "    # Step 2 (Data preprocessing)\n",
    "    data['Date:is_weekend']=data['Date:is_weekend'].replace({False: 0, True: 1})\n",
    "    data['Date:is_quarter_end']=data['Date:is_quarter_end'].replace({False: 0, True: 1})\n",
    "    data['Date:is_month_end']=data['Date:is_month_end'].replace({False: 0, True: 1})\n",
    "    \n",
    "    # Step 3\n",
    "    data=data.drop(['Date:time'],axis=1)\n",
    "    \n",
    "    # Step 4\n",
    "    data['Date:day_part'] = data['Date:day_part'].fillna(value=np.nan)\n",
    "    \n",
    "    # Step 5\n",
    "    data['Date:day_part'] = data['Date:day_part'].fillna(value='midnight')\n",
    "    \n",
    "    # Step 6\n",
    "    data['Date:day_part'] = data['Date:day_part'].replace({'midnight':0, 'dawn':1, 'early morning':2, \n",
    "                                                               'late morning':3, 'noon':4, 'afternoon':5,\n",
    "                                                               'evening':6, 'night':7})\n",
    "    \n",
    "    return data"
   ]
  },
  {
   "cell_type": "code",
   "execution_count": 11,
   "id": "8ce19d38",
   "metadata": {
    "execution": {
     "iopub.execute_input": "2022-05-15T12:24:26.274839Z",
     "iopub.status.busy": "2022-05-15T12:24:26.274168Z",
     "iopub.status.idle": "2022-05-15T12:24:26.304354Z",
     "shell.execute_reply": "2022-05-15T12:24:26.303382Z"
    },
    "papermill": {
     "duration": 0.07903,
     "end_time": "2022-05-15T12:24:26.306879",
     "exception": false,
     "start_time": "2022-05-15T12:24:26.227849",
     "status": "completed"
    },
    "tags": []
   },
   "outputs": [],
   "source": [
    "train = data_clean(train)\n",
    "test = data_clean(test)"
   ]
  },
  {
   "cell_type": "markdown",
   "id": "b969259b",
   "metadata": {
    "papermill": {
     "duration": 0.046998,
     "end_time": "2022-05-15T12:24:26.399476",
     "exception": false,
     "start_time": "2022-05-15T12:24:26.352478",
     "status": "completed"
    },
    "tags": []
   },
   "source": [
    "Function copy and edit from : @gauravduttakiit [work](https://www.kaggle.com/code/gauravduttakiit/smart-home-s-temperature-flaml-mae)"
   ]
  },
  {
   "cell_type": "code",
   "execution_count": 12,
   "id": "89d8b380",
   "metadata": {
    "execution": {
     "iopub.execute_input": "2022-05-15T12:24:26.489985Z",
     "iopub.status.busy": "2022-05-15T12:24:26.489709Z",
     "iopub.status.idle": "2022-05-15T12:24:26.516950Z",
     "shell.execute_reply": "2022-05-15T12:24:26.516145Z"
    },
    "papermill": {
     "duration": 0.075075,
     "end_time": "2022-05-15T12:24:26.518952",
     "exception": false,
     "start_time": "2022-05-15T12:24:26.443877",
     "status": "completed"
    },
    "tags": []
   },
   "outputs": [
    {
     "data": {
      "text/html": [
       "<div>\n",
       "<style scoped>\n",
       "    .dataframe tbody tr th:only-of-type {\n",
       "        vertical-align: middle;\n",
       "    }\n",
       "\n",
       "    .dataframe tbody tr th {\n",
       "        vertical-align: top;\n",
       "    }\n",
       "\n",
       "    .dataframe thead th {\n",
       "        text-align: right;\n",
       "    }\n",
       "</style>\n",
       "<table border=\"1\" class=\"dataframe\">\n",
       "  <thead>\n",
       "    <tr style=\"text-align: right;\">\n",
       "      <th></th>\n",
       "      <th>CO2_dinningroom</th>\n",
       "      <th>CO2_room</th>\n",
       "      <th>Relative_humidity_dinningroom</th>\n",
       "      <th>Relative_humidity_room</th>\n",
       "      <th>Lighting_dinningroom</th>\n",
       "      <th>Lighting_room</th>\n",
       "      <th>Meteo_Rain</th>\n",
       "      <th>Meteo_Sun_dusk</th>\n",
       "      <th>Meteo_Wind</th>\n",
       "      <th>Meteo_Sun_light_in_west_facade</th>\n",
       "      <th>...</th>\n",
       "      <th>Dateday</th>\n",
       "      <th>Dateday_of_week</th>\n",
       "      <th>Dateday_of_year</th>\n",
       "      <th>Dateweekofyear</th>\n",
       "      <th>Dateis_month_end</th>\n",
       "      <th>Dateis_quarter_end</th>\n",
       "      <th>Datehour</th>\n",
       "      <th>Dateminute</th>\n",
       "      <th>Dateis_weekend</th>\n",
       "      <th>Dateday_part</th>\n",
       "    </tr>\n",
       "  </thead>\n",
       "  <tbody>\n",
       "    <tr>\n",
       "      <th>0</th>\n",
       "      <td>216.560</td>\n",
       "      <td>221.920</td>\n",
       "      <td>39.9125</td>\n",
       "      <td>42.4150</td>\n",
       "      <td>81.6650</td>\n",
       "      <td>113.520</td>\n",
       "      <td>0.0</td>\n",
       "      <td>623.360</td>\n",
       "      <td>1.42625</td>\n",
       "      <td>9690.24</td>\n",
       "      <td>...</td>\n",
       "      <td>13</td>\n",
       "      <td>1</td>\n",
       "      <td>73</td>\n",
       "      <td>11</td>\n",
       "      <td>0</td>\n",
       "      <td>0</td>\n",
       "      <td>11</td>\n",
       "      <td>45</td>\n",
       "      <td>0</td>\n",
       "      <td>4</td>\n",
       "    </tr>\n",
       "    <tr>\n",
       "      <th>1</th>\n",
       "      <td>219.947</td>\n",
       "      <td>220.363</td>\n",
       "      <td>39.9267</td>\n",
       "      <td>42.2453</td>\n",
       "      <td>81.7413</td>\n",
       "      <td>113.605</td>\n",
       "      <td>0.0</td>\n",
       "      <td>623.211</td>\n",
       "      <td>1.59200</td>\n",
       "      <td>11022.00</td>\n",
       "      <td>...</td>\n",
       "      <td>13</td>\n",
       "      <td>1</td>\n",
       "      <td>73</td>\n",
       "      <td>11</td>\n",
       "      <td>0</td>\n",
       "      <td>0</td>\n",
       "      <td>12</td>\n",
       "      <td>0</td>\n",
       "      <td>0</td>\n",
       "      <td>4</td>\n",
       "    </tr>\n",
       "    <tr>\n",
       "      <th>2</th>\n",
       "      <td>219.403</td>\n",
       "      <td>218.933</td>\n",
       "      <td>39.7720</td>\n",
       "      <td>42.2267</td>\n",
       "      <td>81.4240</td>\n",
       "      <td>113.600</td>\n",
       "      <td>0.0</td>\n",
       "      <td>622.656</td>\n",
       "      <td>1.89133</td>\n",
       "      <td>13960.50</td>\n",
       "      <td>...</td>\n",
       "      <td>13</td>\n",
       "      <td>1</td>\n",
       "      <td>73</td>\n",
       "      <td>11</td>\n",
       "      <td>0</td>\n",
       "      <td>0</td>\n",
       "      <td>12</td>\n",
       "      <td>15</td>\n",
       "      <td>0</td>\n",
       "      <td>4</td>\n",
       "    </tr>\n",
       "    <tr>\n",
       "      <th>3</th>\n",
       "      <td>218.613</td>\n",
       "      <td>217.045</td>\n",
       "      <td>39.7760</td>\n",
       "      <td>42.0987</td>\n",
       "      <td>81.5013</td>\n",
       "      <td>113.344</td>\n",
       "      <td>0.0</td>\n",
       "      <td>622.571</td>\n",
       "      <td>1.82800</td>\n",
       "      <td>18511.20</td>\n",
       "      <td>...</td>\n",
       "      <td>13</td>\n",
       "      <td>1</td>\n",
       "      <td>73</td>\n",
       "      <td>11</td>\n",
       "      <td>0</td>\n",
       "      <td>0</td>\n",
       "      <td>12</td>\n",
       "      <td>30</td>\n",
       "      <td>0</td>\n",
       "      <td>4</td>\n",
       "    </tr>\n",
       "    <tr>\n",
       "      <th>4</th>\n",
       "      <td>217.714</td>\n",
       "      <td>216.080</td>\n",
       "      <td>39.7757</td>\n",
       "      <td>42.0686</td>\n",
       "      <td>81.4657</td>\n",
       "      <td>113.034</td>\n",
       "      <td>0.0</td>\n",
       "      <td>622.400</td>\n",
       "      <td>2.36071</td>\n",
       "      <td>26349.00</td>\n",
       "      <td>...</td>\n",
       "      <td>13</td>\n",
       "      <td>1</td>\n",
       "      <td>73</td>\n",
       "      <td>11</td>\n",
       "      <td>0</td>\n",
       "      <td>0</td>\n",
       "      <td>12</td>\n",
       "      <td>45</td>\n",
       "      <td>0</td>\n",
       "      <td>4</td>\n",
       "    </tr>\n",
       "  </tbody>\n",
       "</table>\n",
       "<p>5 rows × 28 columns</p>\n",
       "</div>"
      ],
      "text/plain": [
       "   CO2_dinningroom  CO2_room  Relative_humidity_dinningroom  \\\n",
       "0          216.560   221.920                        39.9125   \n",
       "1          219.947   220.363                        39.9267   \n",
       "2          219.403   218.933                        39.7720   \n",
       "3          218.613   217.045                        39.7760   \n",
       "4          217.714   216.080                        39.7757   \n",
       "\n",
       "   Relative_humidity_room  Lighting_dinningroom  Lighting_room  Meteo_Rain  \\\n",
       "0                 42.4150               81.6650        113.520         0.0   \n",
       "1                 42.2453               81.7413        113.605         0.0   \n",
       "2                 42.2267               81.4240        113.600         0.0   \n",
       "3                 42.0987               81.5013        113.344         0.0   \n",
       "4                 42.0686               81.4657        113.034         0.0   \n",
       "\n",
       "   Meteo_Sun_dusk  Meteo_Wind  Meteo_Sun_light_in_west_facade  ...  Dateday  \\\n",
       "0         623.360     1.42625                         9690.24  ...       13   \n",
       "1         623.211     1.59200                        11022.00  ...       13   \n",
       "2         622.656     1.89133                        13960.50  ...       13   \n",
       "3         622.571     1.82800                        18511.20  ...       13   \n",
       "4         622.400     2.36071                        26349.00  ...       13   \n",
       "\n",
       "   Dateday_of_week  Dateday_of_year  Dateweekofyear  Dateis_month_end  \\\n",
       "0                1               73              11                 0   \n",
       "1                1               73              11                 0   \n",
       "2                1               73              11                 0   \n",
       "3                1               73              11                 0   \n",
       "4                1               73              11                 0   \n",
       "\n",
       "   Dateis_quarter_end  Datehour  Dateminute  Dateis_weekend  Dateday_part  \n",
       "0                   0        11          45               0             4  \n",
       "1                   0        12           0               0             4  \n",
       "2                   0        12          15               0             4  \n",
       "3                   0        12          30               0             4  \n",
       "4                   0        12          45               0             4  \n",
       "\n",
       "[5 rows x 28 columns]"
      ]
     },
     "execution_count": 12,
     "metadata": {},
     "output_type": "execute_result"
    }
   ],
   "source": [
    "import re\n",
    "\n",
    "train = train.rename(columns = lambda x:re.sub('[^A-Za-z0-9_]+', '', x))\n",
    "test = test.rename(columns = lambda x:re.sub('[^A-Za-z0-9_]+', '', x))\n",
    "\n",
    "train.head()"
   ]
  },
  {
   "cell_type": "markdown",
   "id": "0b7724c9",
   "metadata": {
    "papermill": {
     "duration": 0.045344,
     "end_time": "2022-05-15T12:24:26.611881",
     "exception": false,
     "start_time": "2022-05-15T12:24:26.566537",
     "status": "completed"
    },
    "tags": []
   },
   "source": [
    "# Split Data"
   ]
  },
  {
   "cell_type": "code",
   "execution_count": 13,
   "id": "c4a70175",
   "metadata": {
    "execution": {
     "iopub.execute_input": "2022-05-15T12:24:26.705372Z",
     "iopub.status.busy": "2022-05-15T12:24:26.704851Z",
     "iopub.status.idle": "2022-05-15T12:24:26.709759Z",
     "shell.execute_reply": "2022-05-15T12:24:26.708976Z"
    },
    "papermill": {
     "duration": 0.053884,
     "end_time": "2022-05-15T12:24:26.711527",
     "exception": false,
     "start_time": "2022-05-15T12:24:26.657643",
     "status": "completed"
    },
    "tags": []
   },
   "outputs": [],
   "source": [
    "X = train.copy()\n",
    "y = X.pop('Indoor_temperature_room')"
   ]
  },
  {
   "cell_type": "code",
   "execution_count": 14,
   "id": "8531c96d",
   "metadata": {
    "execution": {
     "iopub.execute_input": "2022-05-15T12:24:26.809609Z",
     "iopub.status.busy": "2022-05-15T12:24:26.809061Z",
     "iopub.status.idle": "2022-05-15T12:24:27.971139Z",
     "shell.execute_reply": "2022-05-15T12:24:27.970199Z"
    },
    "papermill": {
     "duration": 1.211708,
     "end_time": "2022-05-15T12:24:27.973594",
     "exception": false,
     "start_time": "2022-05-15T12:24:26.761886",
     "status": "completed"
    },
    "tags": []
   },
   "outputs": [],
   "source": [
    "from sklearn.model_selection import train_test_split\n",
    "_, X_test, _, y_test = train_test_split( X, y, test_size=0.3, random_state=42)"
   ]
  },
  {
   "cell_type": "markdown",
   "id": "09fd7c67",
   "metadata": {
    "papermill": {
     "duration": 0.045972,
     "end_time": "2022-05-15T12:24:28.064945",
     "exception": false,
     "start_time": "2022-05-15T12:24:28.018973",
     "status": "completed"
    },
    "tags": []
   },
   "source": [
    "# Modeling with EvalML"
   ]
  },
  {
   "cell_type": "markdown",
   "id": "98d6e254",
   "metadata": {
    "papermill": {
     "duration": 0.045141,
     "end_time": "2022-05-15T12:24:28.155946",
     "exception": false,
     "start_time": "2022-05-15T12:24:28.110805",
     "status": "completed"
    },
    "tags": []
   },
   "source": [
    "EvalML [docs here](https://evalml.alteryx.com/en/stable/user_guide/automl.html)"
   ]
  },
  {
   "cell_type": "markdown",
   "id": "c2ad66b4",
   "metadata": {
    "papermill": {
     "duration": 0.044867,
     "end_time": "2022-05-15T12:24:28.246071",
     "exception": false,
     "start_time": "2022-05-15T12:24:28.201204",
     "status": "completed"
    },
    "tags": []
   },
   "source": [
    "- Installation"
   ]
  },
  {
   "cell_type": "code",
   "execution_count": 15,
   "id": "29d214fb",
   "metadata": {
    "_kg_hide-output": true,
    "execution": {
     "iopub.execute_input": "2022-05-15T12:24:28.338222Z",
     "iopub.status.busy": "2022-05-15T12:24:28.337924Z",
     "iopub.status.idle": "2022-05-15T12:25:44.466785Z",
     "shell.execute_reply": "2022-05-15T12:25:44.465713Z"
    },
    "papermill": {
     "duration": 76.178223,
     "end_time": "2022-05-15T12:25:44.469832",
     "exception": false,
     "start_time": "2022-05-15T12:24:28.291609",
     "status": "completed"
    },
    "tags": []
   },
   "outputs": [
    {
     "name": "stdout",
     "output_type": "stream",
     "text": [
      "\u001b[31mERROR: pip's dependency resolver does not currently take into account all the packages that are installed. This behaviour is the source of the following dependency conflicts.\r\n",
      "beatrix-jupyterlab 3.1.7 requires google-cloud-bigquery-storage, which is not installed.\r\n",
      "tfx-bsl 1.7.0 requires pyarrow<6,>=1, but you have pyarrow 7.0.0 which is incompatible.\r\n",
      "tfx-bsl 1.7.0 requires tensorflow!=2.0.*,!=2.1.*,!=2.2.*,!=2.3.*,!=2.4.*,!=2.5.*,!=2.6.*,!=2.7.*,<3,>=1.15.5, but you have tensorflow 2.6.3 which is incompatible.\r\n",
      "tensorflow-transform 1.7.0 requires pyarrow<6,>=1, but you have pyarrow 7.0.0 which is incompatible.\r\n",
      "tensorflow-transform 1.7.0 requires tensorflow!=2.0.*,!=2.1.*,!=2.2.*,!=2.3.*,!=2.4.*,!=2.5.*,!=2.6.*,!=2.7.*,<2.9,>=1.15.5, but you have tensorflow 2.6.3 which is incompatible.\r\n",
      "preprocessing 0.1.13 requires nltk==3.2.4, but you have nltk 3.7 which is incompatible.\r\n",
      "pdpbox 0.2.1 requires matplotlib==3.1.1, but you have matplotlib 3.5.2 which is incompatible.\r\n",
      "mxnet 1.9.0 requires graphviz<0.9.0,>=0.8.1, but you have graphviz 0.20 which is incompatible.\r\n",
      "ibis-framework 2.1.1 requires pandas<2,>=1.2.5, but you have pandas 1.2.4 which is incompatible.\u001b[0m\u001b[31m\r\n",
      "\u001b[0m\u001b[33mWARNING: Running pip as the 'root' user can result in broken permissions and conflicting behaviour with the system package manager. It is recommended to use a virtual environment instead: https://pip.pypa.io/warnings/venv\u001b[0m\u001b[33m\r\n",
      "\u001b[0m"
     ]
    }
   ],
   "source": [
    "!python3 -m pip install -q evalml==0.28.0"
   ]
  },
  {
   "cell_type": "code",
   "execution_count": 16,
   "id": "ac7c6626",
   "metadata": {
    "execution": {
     "iopub.execute_input": "2022-05-15T12:25:44.565527Z",
     "iopub.status.busy": "2022-05-15T12:25:44.565197Z",
     "iopub.status.idle": "2022-05-15T12:25:48.352664Z",
     "shell.execute_reply": "2022-05-15T12:25:48.351585Z"
    },
    "papermill": {
     "duration": 3.83865,
     "end_time": "2022-05-15T12:25:48.355443",
     "exception": false,
     "start_time": "2022-05-15T12:25:44.516793",
     "status": "completed"
    },
    "tags": []
   },
   "outputs": [],
   "source": [
    "from evalml.automl import AutoMLSearch"
   ]
  },
  {
   "cell_type": "markdown",
   "id": "37847b59",
   "metadata": {
    "papermill": {
     "duration": 0.045952,
     "end_time": "2022-05-15T12:25:48.449215",
     "exception": false,
     "start_time": "2022-05-15T12:25:48.403263",
     "status": "completed"
    },
    "tags": []
   },
   "source": [
    "### Training"
   ]
  },
  {
   "cell_type": "code",
   "execution_count": 17,
   "id": "3cbf9fd8",
   "metadata": {
    "collapsed": true,
    "execution": {
     "iopub.execute_input": "2022-05-15T12:25:48.543983Z",
     "iopub.status.busy": "2022-05-15T12:25:48.543715Z",
     "iopub.status.idle": "2022-05-15T12:46:07.133629Z",
     "shell.execute_reply": "2022-05-15T12:46:07.132580Z"
    },
    "jupyter": {
     "outputs_hidden": true
    },
    "papermill": {
     "duration": 1218.640237,
     "end_time": "2022-05-15T12:46:07.136268",
     "exception": false,
     "start_time": "2022-05-15T12:25:48.496031",
     "status": "completed"
    },
    "tags": []
   },
   "outputs": [
    {
     "name": "stdout",
     "output_type": "stream",
     "text": [
      "Generating pipelines to search over...\n"
     ]
    },
    {
     "data": {
      "text/html": [
       "<style type='text/css'>\n",
       ".datatable table.frame { margin-bottom: 0; }\n",
       ".datatable table.frame thead { border-bottom: none; }\n",
       ".datatable table.frame tr.coltypes td {  color: #FFFFFF;  line-height: 6px;  padding: 0 0.5em;}\n",
       ".datatable .bool    { background: #DDDD99; }\n",
       ".datatable .object  { background: #565656; }\n",
       ".datatable .int     { background: #5D9E5D; }\n",
       ".datatable .float   { background: #4040CC; }\n",
       ".datatable .str     { background: #CC4040; }\n",
       ".datatable .time    { background: #40CC40; }\n",
       ".datatable .row_index {  background: var(--jp-border-color3);  border-right: 1px solid var(--jp-border-color0);  color: var(--jp-ui-font-color3);  font-size: 9px;}\n",
       ".datatable .frame tbody td { text-align: left; }\n",
       ".datatable .frame tr.coltypes .row_index {  background: var(--jp-border-color0);}\n",
       ".datatable th:nth-child(2) { padding-left: 12px; }\n",
       ".datatable .hellipsis {  color: var(--jp-cell-editor-border-color);}\n",
       ".datatable .vellipsis {  background: var(--jp-layout-color0);  color: var(--jp-cell-editor-border-color);}\n",
       ".datatable .na {  color: var(--jp-cell-editor-border-color);  font-size: 80%;}\n",
       ".datatable .sp {  opacity: 0.25;}\n",
       ".datatable .footer { font-size: 9px; }\n",
       ".datatable .frame_dimensions {  background: var(--jp-border-color3);  border-top: 1px solid var(--jp-border-color0);  color: var(--jp-ui-font-color3);  display: inline-block;  opacity: 0.6;  padding: 1px 10px 1px 5px;}\n",
       "</style>\n"
      ],
      "text/plain": [
       "<IPython.core.display.HTML object>"
      ]
     },
     "metadata": {},
     "output_type": "display_data"
    },
    {
     "name": "stdout",
     "output_type": "stream",
     "text": [
      "8 pipelines ready for search.\n",
      "\n",
      "*****************************\n",
      "* Beginning pipeline search *\n",
      "*****************************\n",
      "\n",
      "Optimizing for R2. \n",
      "Greater score is better.\n",
      "\n",
      "Using SequentialEngine to train and score pipelines.\n",
      "Will stop searching for new pipelines after 1200 seconds.\n",
      "\n",
      "Allowed model families: xgboost, catboost, lightgbm, extra_trees, random_forest, decision_tree, linear_model\n",
      "\n"
     ]
    },
    {
     "data": {
      "application/vnd.jupyter.widget-view+json": {
       "model_id": "b4c2f006480e431ebba17798419623fc",
       "version_major": 2,
       "version_minor": 0
      },
      "text/plain": [
       "FigureWidget({\n",
       "    'data': [{'mode': 'lines+markers',\n",
       "              'name': 'Best Score',\n",
       "              'type'…"
      ]
     },
     "metadata": {},
     "output_type": "display_data"
    },
    {
     "name": "stdout",
     "output_type": "stream",
     "text": [
      "Evaluating Baseline Pipeline: Mean Baseline Regression Pipeline\n",
      "Mean Baseline Regression Pipeline:\n",
      "\tStarting cross validation\n",
      "\tFinished cross validation - mean R2: -0.000\n",
      "\tHigh coefficient of variation (cv >= 0.2) within cross validation scores.\n",
      "\tMean Baseline Regression Pipeline may not perform as estimated on unseen data.\n",
      "\n",
      "*****************************\n",
      "* Evaluating Batch Number 1 *\n",
      "*****************************\n",
      "\n",
      "Linear Regressor w/ Imputer + Standard Scaler:\n",
      "\tStarting cross validation\n",
      "\tFinished cross validation - mean R2: 0.751\n",
      "Decision Tree Regressor w/ Imputer:\n",
      "\tStarting cross validation\n",
      "\tFinished cross validation - mean R2: 0.857\n",
      "Random Forest Regressor w/ Imputer:\n",
      "\tStarting cross validation\n",
      "\tFinished cross validation - mean R2: 0.927\n",
      "LightGBM Regressor w/ Imputer:\n",
      "\tStarting cross validation\n",
      "\tFinished cross validation - mean R2: 0.933\n"
     ]
    },
    {
     "name": "stderr",
     "output_type": "stream",
     "text": [
      "/opt/conda/lib/python3.7/site-packages/sklearn/linear_model/_coordinate_descent.py:648: ConvergenceWarning:\n",
      "\n",
      "Objective did not converge. You might want to increase the number of iterations, check the scale of the features or consider increasing regularisation. Duality gap: 1.801e+03, tolerance: 1.481e+00\n",
      "\n",
      "/opt/conda/lib/python3.7/site-packages/sklearn/linear_model/_coordinate_descent.py:648: ConvergenceWarning:\n",
      "\n",
      "Objective did not converge. You might want to increase the number of iterations, check the scale of the features or consider increasing regularisation. Duality gap: 1.761e+03, tolerance: 1.481e+00\n",
      "\n"
     ]
    },
    {
     "name": "stdout",
     "output_type": "stream",
     "text": [
      "Elastic Net Regressor w/ Imputer + Standard Scaler:\n",
      "\tStarting cross validation\n",
      "\tFinished cross validation - mean R2: 0.742\n"
     ]
    },
    {
     "name": "stderr",
     "output_type": "stream",
     "text": [
      "/opt/conda/lib/python3.7/site-packages/sklearn/linear_model/_coordinate_descent.py:648: ConvergenceWarning:\n",
      "\n",
      "Objective did not converge. You might want to increase the number of iterations, check the scale of the features or consider increasing regularisation. Duality gap: 1.767e+03, tolerance: 1.436e+00\n",
      "\n"
     ]
    },
    {
     "name": "stdout",
     "output_type": "stream",
     "text": [
      "XGBoost Regressor w/ Imputer:\n",
      "\tStarting cross validation\n",
      "\tFinished cross validation - mean R2: 0.987\n",
      "Extra Trees Regressor w/ Imputer:\n",
      "\tStarting cross validation\n",
      "\tFinished cross validation - mean R2: 0.915\n",
      "CatBoost Regressor w/ Imputer:\n",
      "\tStarting cross validation\n",
      "\tFinished cross validation - mean R2: 0.336\n",
      "\n",
      "*****************************\n",
      "* Evaluating Batch Number 2 *\n",
      "*****************************\n",
      "\n",
      "XGBoost Regressor w/ Imputer:\n",
      "\tStarting cross validation\n",
      "\tFinished cross validation - mean R2: 0.951\n",
      "XGBoost Regressor w/ Imputer:\n",
      "\tStarting cross validation\n",
      "\tFinished cross validation - mean R2: 0.979\n",
      "XGBoost Regressor w/ Imputer:\n",
      "\tStarting cross validation\n",
      "\tFinished cross validation - mean R2: 0.949\n",
      "XGBoost Regressor w/ Imputer:\n",
      "\tStarting cross validation\n",
      "\tFinished cross validation - mean R2: 0.951\n",
      "XGBoost Regressor w/ Imputer:\n",
      "\tStarting cross validation\n",
      "\tFinished cross validation - mean R2: 0.990\n",
      "\n",
      "*****************************\n",
      "* Evaluating Batch Number 3 *\n",
      "*****************************\n",
      "\n",
      "LightGBM Regressor w/ Imputer:\n",
      "\tStarting cross validation\n",
      "\tFinished cross validation - mean R2: 0.764\n",
      "LightGBM Regressor w/ Imputer:\n",
      "\tStarting cross validation\n",
      "\tFinished cross validation - mean R2: 0.687\n",
      "LightGBM Regressor w/ Imputer:\n",
      "\tStarting cross validation\n",
      "\tFinished cross validation - mean R2: 0.679\n",
      "LightGBM Regressor w/ Imputer:\n",
      "\tStarting cross validation\n",
      "\tFinished cross validation - mean R2: 0.954\n",
      "LightGBM Regressor w/ Imputer:\n",
      "\tStarting cross validation\n",
      "\tFinished cross validation - mean R2: 0.982\n",
      "\n",
      "*****************************\n",
      "* Evaluating Batch Number 4 *\n",
      "*****************************\n",
      "\n",
      "Random Forest Regressor w/ Imputer:\n",
      "\tStarting cross validation\n",
      "\tFinished cross validation - mean R2: 0.833\n",
      "Random Forest Regressor w/ Imputer:\n",
      "\tStarting cross validation\n",
      "\tFinished cross validation - mean R2: 0.984\n",
      "Random Forest Regressor w/ Imputer:\n",
      "\tStarting cross validation\n",
      "\tFinished cross validation - mean R2: 0.978\n",
      "Random Forest Regressor w/ Imputer:\n",
      "\tStarting cross validation\n",
      "\tFinished cross validation - mean R2: 0.983\n",
      "Random Forest Regressor w/ Imputer:\n",
      "\tStarting cross validation\n",
      "\tFinished cross validation - mean R2: 0.891\n",
      "\n",
      "*****************************\n",
      "* Evaluating Batch Number 5 *\n",
      "*****************************\n",
      "\n",
      "Extra Trees Regressor w/ Imputer:\n",
      "\tStarting cross validation\n",
      "\tFinished cross validation - mean R2: 0.694\n",
      "Extra Trees Regressor w/ Imputer:\n",
      "\tStarting cross validation\n",
      "\tFinished cross validation - mean R2: 0.608\n",
      "Extra Trees Regressor w/ Imputer:\n",
      "\tStarting cross validation\n",
      "\tFinished cross validation - mean R2: 0.736\n",
      "Extra Trees Regressor w/ Imputer:\n",
      "\tStarting cross validation\n",
      "\tFinished cross validation - mean R2: 0.946\n",
      "Extra Trees Regressor w/ Imputer:\n",
      "\tStarting cross validation\n",
      "\tFinished cross validation - mean R2: 0.561\n",
      "\n",
      "*****************************\n",
      "* Evaluating Batch Number 6 *\n",
      "*****************************\n",
      "\n",
      "Decision Tree Regressor w/ Imputer:\n",
      "\tStarting cross validation\n",
      "\tFinished cross validation - mean R2: 0.807\n",
      "Decision Tree Regressor w/ Imputer:\n",
      "\tStarting cross validation\n",
      "\tFinished cross validation - mean R2: 0.777\n",
      "Decision Tree Regressor w/ Imputer:\n",
      "\tStarting cross validation\n",
      "\tFinished cross validation - mean R2: 0.911\n",
      "Decision Tree Regressor w/ Imputer:\n",
      "\tStarting cross validation\n",
      "\tFinished cross validation - mean R2: 0.922\n",
      "Decision Tree Regressor w/ Imputer:\n",
      "\tStarting cross validation\n",
      "\tFinished cross validation - mean R2: 0.764\n",
      "\n",
      "*****************************\n",
      "* Evaluating Batch Number 7 *\n",
      "*****************************\n",
      "\n",
      "Linear Regressor w/ Imputer + Standard Scaler:\n",
      "\tStarting cross validation\n",
      "\tFinished cross validation - mean R2: -43.774\n",
      "Linear Regressor w/ Imputer + Standard Scaler:\n",
      "\tStarting cross validation\n",
      "\tFinished cross validation - mean R2: -43.774\n",
      "Linear Regressor w/ Imputer + Standard Scaler:\n",
      "\tStarting cross validation\n",
      "\tFinished cross validation - mean R2: 0.751\n",
      "Linear Regressor w/ Imputer + Standard Scaler:\n",
      "\tStarting cross validation\n",
      "\tFinished cross validation - mean R2: 0.751\n",
      "Linear Regressor w/ Imputer + Standard Scaler:\n",
      "\tStarting cross validation\n",
      "\tFinished cross validation - mean R2: 0.751\n",
      "\n",
      "*****************************\n",
      "* Evaluating Batch Number 8 *\n",
      "*****************************\n",
      "\n",
      "Elastic Net Regressor w/ Imputer + Standard Scaler:\n",
      "\tStarting cross validation\n",
      "\tFinished cross validation - mean R2: 0.289\n",
      "Elastic Net Regressor w/ Imputer + Standard Scaler:\n",
      "\tStarting cross validation\n",
      "\tFinished cross validation - mean R2: 0.440\n",
      "Elastic Net Regressor w/ Imputer + Standard Scaler:\n",
      "\tStarting cross validation\n",
      "\tFinished cross validation - mean R2: 0.666\n",
      "Elastic Net Regressor w/ Imputer + Standard Scaler:\n",
      "\tStarting cross validation\n",
      "\tFinished cross validation - mean R2: 0.591\n",
      "Elastic Net Regressor w/ Imputer + Standard Scaler:\n",
      "\tStarting cross validation\n",
      "\tFinished cross validation - mean R2: 0.664\n",
      "\n",
      "*****************************\n",
      "* Evaluating Batch Number 9 *\n",
      "*****************************\n",
      "\n",
      "CatBoost Regressor w/ Imputer:\n",
      "\tStarting cross validation\n",
      "\tFinished cross validation - mean R2: 0.982\n",
      "CatBoost Regressor w/ Imputer:\n",
      "\tStarting cross validation\n",
      "\tFinished cross validation - mean R2: 0.986\n",
      "CatBoost Regressor w/ Imputer:\n",
      "\tStarting cross validation\n",
      "\tFinished cross validation - mean R2: 0.980\n",
      "CatBoost Regressor w/ Imputer:\n",
      "\tStarting cross validation\n",
      "\tFinished cross validation - mean R2: 0.929\n",
      "CatBoost Regressor w/ Imputer:\n",
      "\tStarting cross validation\n",
      "\tFinished cross validation - mean R2: 0.970\n",
      "\n",
      "******************************\n",
      "* Evaluating Batch Number 10 *\n",
      "******************************\n",
      "\n",
      "XGBoost Regressor w/ Imputer:\n",
      "\tStarting cross validation\n",
      "\tFinished cross validation - mean R2: 0.977\n",
      "XGBoost Regressor w/ Imputer:\n",
      "\tStarting cross validation\n",
      "\tFinished cross validation - mean R2: 0.986\n",
      "XGBoost Regressor w/ Imputer:\n",
      "\tStarting cross validation\n",
      "\tFinished cross validation - mean R2: 0.991\n",
      "XGBoost Regressor w/ Imputer:\n",
      "\tStarting cross validation\n",
      "\tFinished cross validation - mean R2: 0.988\n",
      "XGBoost Regressor w/ Imputer:\n",
      "\tStarting cross validation\n",
      "\tFinished cross validation - mean R2: 0.989\n",
      "\n",
      "******************************\n",
      "* Evaluating Batch Number 11 *\n",
      "******************************\n",
      "\n",
      "LightGBM Regressor w/ Imputer:\n",
      "\tStarting cross validation\n",
      "\tFinished cross validation - mean R2: 0.970\n",
      "LightGBM Regressor w/ Imputer:\n",
      "\tStarting cross validation\n",
      "\tFinished cross validation - mean R2: 0.988\n",
      "LightGBM Regressor w/ Imputer:\n",
      "\tStarting cross validation\n",
      "\tFinished cross validation - mean R2: 0.430\n",
      "LightGBM Regressor w/ Imputer:\n",
      "\tStarting cross validation\n",
      "\tFinished cross validation - mean R2: 0.340\n",
      "LightGBM Regressor w/ Imputer:\n",
      "\tStarting cross validation\n",
      "\tFinished cross validation - mean R2: 0.953\n",
      "\n",
      "******************************\n",
      "* Evaluating Batch Number 12 *\n",
      "******************************\n",
      "\n",
      "Random Forest Regressor w/ Imputer:\n",
      "\tStarting cross validation\n",
      "\tFinished cross validation - mean R2: 0.984\n",
      "Random Forest Regressor w/ Imputer:\n",
      "\tStarting cross validation\n",
      "\tFinished cross validation - mean R2: 0.983\n",
      "Random Forest Regressor w/ Imputer:\n",
      "\tStarting cross validation\n",
      "\tFinished cross validation - mean R2: 0.830\n",
      "Random Forest Regressor w/ Imputer:\n",
      "\tStarting cross validation\n",
      "\tFinished cross validation - mean R2: 0.984\n",
      "Random Forest Regressor w/ Imputer:\n",
      "\tStarting cross validation\n",
      "\tFinished cross validation - mean R2: 0.983\n",
      "\n",
      "******************************\n",
      "* Evaluating Batch Number 13 *\n",
      "******************************\n",
      "\n",
      "Extra Trees Regressor w/ Imputer:\n",
      "\tStarting cross validation\n",
      "\tFinished cross validation - mean R2: 0.926\n",
      "Extra Trees Regressor w/ Imputer:\n",
      "\tStarting cross validation\n",
      "\tFinished cross validation - mean R2: 0.858\n",
      "Extra Trees Regressor w/ Imputer:\n",
      "\tStarting cross validation\n",
      "\tFinished cross validation - mean R2: 0.607\n",
      "Extra Trees Regressor w/ Imputer:\n",
      "\tStarting cross validation\n",
      "\tFinished cross validation - mean R2: 0.795\n",
      "Extra Trees Regressor w/ Imputer:\n",
      "\tStarting cross validation\n",
      "\tFinished cross validation - mean R2: 0.738\n",
      "\n",
      "******************************\n",
      "* Evaluating Batch Number 14 *\n",
      "******************************\n",
      "\n",
      "Decision Tree Regressor w/ Imputer:\n",
      "\tStarting cross validation\n",
      "\tFinished cross validation - mean R2: 0.745\n",
      "Decision Tree Regressor w/ Imputer:\n",
      "\tStarting cross validation\n",
      "\tFinished cross validation - mean R2: 0.898\n",
      "Decision Tree Regressor w/ Imputer:\n",
      "\tStarting cross validation\n",
      "\tFinished cross validation - mean R2: 0.896\n",
      "Decision Tree Regressor w/ Imputer:\n",
      "\tStarting cross validation\n",
      "\tFinished cross validation - mean R2: 0.777\n",
      "Decision Tree Regressor w/ Imputer:\n",
      "\tStarting cross validation\n",
      "\tFinished cross validation - mean R2: 0.856\n",
      "\n",
      "******************************\n",
      "* Evaluating Batch Number 15 *\n",
      "******************************\n",
      "\n",
      "Linear Regressor w/ Imputer + Standard Scaler:\n",
      "\tStarting cross validation\n",
      "\tFinished cross validation - mean R2: -43.774\n",
      "Linear Regressor w/ Imputer + Standard Scaler:\n",
      "\tStarting cross validation\n",
      "\tFinished cross validation - mean R2: 0.751\n",
      "Linear Regressor w/ Imputer + Standard Scaler:\n",
      "\tStarting cross validation\n",
      "\tFinished cross validation - mean R2: -43.774\n",
      "Linear Regressor w/ Imputer + Standard Scaler:\n",
      "\tStarting cross validation\n",
      "\tFinished cross validation - mean R2: 0.751\n",
      "Linear Regressor w/ Imputer + Standard Scaler:\n",
      "\tStarting cross validation\n",
      "\tFinished cross validation - mean R2: -43.774\n",
      "\n",
      "******************************\n",
      "* Evaluating Batch Number 16 *\n",
      "******************************\n",
      "\n",
      "Elastic Net Regressor w/ Imputer + Standard Scaler:\n",
      "\tStarting cross validation\n",
      "\tFinished cross validation - mean R2: 0.501\n",
      "Elastic Net Regressor w/ Imputer + Standard Scaler:\n",
      "\tStarting cross validation\n",
      "\tFinished cross validation - mean R2: 0.654\n",
      "Elastic Net Regressor w/ Imputer + Standard Scaler:\n",
      "\tStarting cross validation\n",
      "\tFinished cross validation - mean R2: 0.420\n",
      "Elastic Net Regressor w/ Imputer + Standard Scaler:\n",
      "\tStarting cross validation\n",
      "\tFinished cross validation - mean R2: 0.652\n",
      "Elastic Net Regressor w/ Imputer + Standard Scaler:\n",
      "\tStarting cross validation\n",
      "\tFinished cross validation - mean R2: 0.466\n",
      "\n",
      "******************************\n",
      "* Evaluating Batch Number 17 *\n",
      "******************************\n",
      "\n",
      "CatBoost Regressor w/ Imputer:\n",
      "\tStarting cross validation\n",
      "\tFinished cross validation - mean R2: 0.963\n",
      "CatBoost Regressor w/ Imputer:\n",
      "\tStarting cross validation\n",
      "\tFinished cross validation - mean R2: 0.968\n",
      "CatBoost Regressor w/ Imputer:\n",
      "\tStarting cross validation\n",
      "\tFinished cross validation - mean R2: 0.984\n",
      "CatBoost Regressor w/ Imputer:\n",
      "\tStarting cross validation\n",
      "\tFinished cross validation - mean R2: 0.970\n",
      "CatBoost Regressor w/ Imputer:\n",
      "\tStarting cross validation\n",
      "\tFinished cross validation - mean R2: 0.985\n",
      "\n",
      "******************************\n",
      "* Evaluating Batch Number 18 *\n",
      "******************************\n",
      "\n",
      "XGBoost Regressor w/ Imputer:\n",
      "\tStarting cross validation\n",
      "\tFinished cross validation - mean R2: 0.974\n",
      "XGBoost Regressor w/ Imputer:\n",
      "\tStarting cross validation\n",
      "\tFinished cross validation - mean R2: 0.974\n",
      "XGBoost Regressor w/ Imputer:\n",
      "\tStarting cross validation\n",
      "\tFinished cross validation - mean R2: 0.974\n",
      "XGBoost Regressor w/ Imputer:\n",
      "\tStarting cross validation\n",
      "\tFinished cross validation - mean R2: 0.974\n",
      "XGBoost Regressor w/ Imputer:\n",
      "\tStarting cross validation\n",
      "\tFinished cross validation - mean R2: 0.974\n",
      "\n",
      "******************************\n",
      "* Evaluating Batch Number 19 *\n",
      "******************************\n",
      "\n",
      "LightGBM Regressor w/ Imputer:\n",
      "\tStarting cross validation\n",
      "\tFinished cross validation - mean R2: 0.963\n",
      "LightGBM Regressor w/ Imputer:\n",
      "\tStarting cross validation\n",
      "\tFinished cross validation - mean R2: 0.963\n",
      "LightGBM Regressor w/ Imputer:\n",
      "\tStarting cross validation\n",
      "\tFinished cross validation - mean R2: 0.963\n",
      "LightGBM Regressor w/ Imputer:\n",
      "\tStarting cross validation\n",
      "\tFinished cross validation - mean R2: 0.963\n",
      "LightGBM Regressor w/ Imputer:\n",
      "\tStarting cross validation\n",
      "\tFinished cross validation - mean R2: 0.963\n",
      "\n",
      "******************************\n",
      "* Evaluating Batch Number 20 *\n",
      "******************************\n",
      "\n",
      "Random Forest Regressor w/ Imputer:\n",
      "\tStarting cross validation\n",
      "\tFinished cross validation - mean R2: 0.984\n",
      "Random Forest Regressor w/ Imputer:\n",
      "\tStarting cross validation\n",
      "\tFinished cross validation - mean R2: 0.984\n",
      "Random Forest Regressor w/ Imputer:\n",
      "\tStarting cross validation\n",
      "\tFinished cross validation - mean R2: 0.984\n",
      "Random Forest Regressor w/ Imputer:\n",
      "\tStarting cross validation\n",
      "\tFinished cross validation - mean R2: 0.984\n",
      "Random Forest Regressor w/ Imputer:\n",
      "\tStarting cross validation\n",
      "\tFinished cross validation - mean R2: 0.984\n",
      "\n",
      "******************************\n",
      "* Evaluating Batch Number 21 *\n",
      "******************************\n",
      "\n",
      "Extra Trees Regressor w/ Imputer:\n",
      "\tStarting cross validation\n",
      "\tFinished cross validation - mean R2: 0.949\n",
      "Extra Trees Regressor w/ Imputer:\n",
      "\tStarting cross validation\n",
      "\tFinished cross validation - mean R2: 0.949\n",
      "Extra Trees Regressor w/ Imputer:\n",
      "\tStarting cross validation\n",
      "\tFinished cross validation - mean R2: 0.949\n",
      "Extra Trees Regressor w/ Imputer:\n",
      "\tStarting cross validation\n",
      "\tFinished cross validation - mean R2: 0.949\n",
      "Extra Trees Regressor w/ Imputer:\n",
      "\tStarting cross validation\n",
      "\tFinished cross validation - mean R2: 0.949\n",
      "\n",
      "******************************\n",
      "* Evaluating Batch Number 22 *\n",
      "******************************\n",
      "\n",
      "Decision Tree Regressor w/ Imputer:\n",
      "\tStarting cross validation\n",
      "\tFinished cross validation - mean R2: 0.935\n",
      "Decision Tree Regressor w/ Imputer:\n",
      "\tStarting cross validation\n",
      "\tFinished cross validation - mean R2: 0.935\n",
      "Decision Tree Regressor w/ Imputer:\n",
      "\tStarting cross validation\n",
      "\tFinished cross validation - mean R2: 0.935\n",
      "Decision Tree Regressor w/ Imputer:\n",
      "\tStarting cross validation\n",
      "\tFinished cross validation - mean R2: 0.935\n",
      "Decision Tree Regressor w/ Imputer:\n",
      "\tStarting cross validation\n",
      "\tFinished cross validation - mean R2: 0.935\n",
      "\n",
      "******************************\n",
      "* Evaluating Batch Number 23 *\n",
      "******************************\n",
      "\n",
      "Linear Regressor w/ Imputer + Standard Scaler:\n",
      "\tStarting cross validation\n",
      "\tFinished cross validation - mean R2: 0.751\n",
      "Linear Regressor w/ Imputer + Standard Scaler:\n",
      "\tStarting cross validation\n",
      "\tFinished cross validation - mean R2: 0.751\n",
      "Linear Regressor w/ Imputer + Standard Scaler:\n",
      "\tStarting cross validation\n",
      "\tFinished cross validation - mean R2: 0.751\n",
      "Linear Regressor w/ Imputer + Standard Scaler:\n",
      "\tStarting cross validation\n",
      "\tFinished cross validation - mean R2: 0.751\n",
      "Linear Regressor w/ Imputer + Standard Scaler:\n",
      "\tStarting cross validation\n",
      "\tFinished cross validation - mean R2: 0.751\n",
      "\n",
      "******************************\n",
      "* Evaluating Batch Number 24 *\n",
      "******************************\n",
      "\n",
      "Elastic Net Regressor w/ Imputer + Standard Scaler:\n",
      "\tStarting cross validation\n",
      "\tFinished cross validation - mean R2: 0.693\n",
      "Elastic Net Regressor w/ Imputer + Standard Scaler:\n",
      "\tStarting cross validation\n",
      "\tFinished cross validation - mean R2: 0.693\n",
      "Elastic Net Regressor w/ Imputer + Standard Scaler:\n",
      "\tStarting cross validation\n",
      "\tFinished cross validation - mean R2: 0.693\n",
      "Elastic Net Regressor w/ Imputer + Standard Scaler:\n",
      "\tStarting cross validation\n",
      "\tFinished cross validation - mean R2: 0.693\n",
      "Elastic Net Regressor w/ Imputer + Standard Scaler:\n",
      "\tStarting cross validation\n",
      "\tFinished cross validation - mean R2: 0.693\n",
      "\n",
      "******************************\n",
      "* Evaluating Batch Number 25 *\n",
      "******************************\n",
      "\n",
      "CatBoost Regressor w/ Imputer:\n",
      "\tStarting cross validation\n",
      "\tFinished cross validation - mean R2: 0.963\n",
      "CatBoost Regressor w/ Imputer:\n",
      "\tStarting cross validation\n",
      "\tFinished cross validation - mean R2: 0.963\n",
      "CatBoost Regressor w/ Imputer:\n",
      "\tStarting cross validation\n",
      "\tFinished cross validation - mean R2: 0.963\n",
      "CatBoost Regressor w/ Imputer:\n",
      "\tStarting cross validation\n",
      "\tFinished cross validation - mean R2: 0.963\n",
      "CatBoost Regressor w/ Imputer:\n",
      "\tStarting cross validation\n",
      "\tFinished cross validation - mean R2: 0.963\n",
      "\n",
      "******************************\n",
      "* Evaluating Batch Number 26 *\n",
      "******************************\n",
      "\n",
      "XGBoost Regressor w/ Imputer:\n",
      "\tStarting cross validation\n",
      "\tFinished cross validation - mean R2: 0.747\n",
      "XGBoost Regressor w/ Imputer:\n",
      "\tStarting cross validation\n",
      "\tFinished cross validation - mean R2: 0.747\n",
      "XGBoost Regressor w/ Imputer:\n",
      "\tStarting cross validation\n",
      "\tFinished cross validation - mean R2: 0.747\n",
      "XGBoost Regressor w/ Imputer:\n",
      "\tStarting cross validation\n",
      "\tFinished cross validation - mean R2: 0.747\n",
      "XGBoost Regressor w/ Imputer:\n",
      "\tStarting cross validation\n",
      "\tFinished cross validation - mean R2: 0.747\n",
      "\n",
      "******************************\n",
      "* Evaluating Batch Number 27 *\n",
      "******************************\n",
      "\n",
      "LightGBM Regressor w/ Imputer:\n",
      "\tStarting cross validation\n",
      "\tFinished cross validation - mean R2: 0.954\n",
      "LightGBM Regressor w/ Imputer:\n",
      "\tStarting cross validation\n",
      "\tFinished cross validation - mean R2: 0.954\n",
      "LightGBM Regressor w/ Imputer:\n",
      "\tStarting cross validation\n",
      "\tFinished cross validation - mean R2: 0.954\n",
      "LightGBM Regressor w/ Imputer:\n",
      "\tStarting cross validation\n",
      "\tFinished cross validation - mean R2: 0.954\n",
      "LightGBM Regressor w/ Imputer:\n",
      "\tStarting cross validation\n",
      "\tFinished cross validation - mean R2: 0.954\n",
      "\n",
      "******************************\n",
      "* Evaluating Batch Number 28 *\n",
      "******************************\n",
      "\n",
      "Random Forest Regressor w/ Imputer:\n",
      "\tStarting cross validation\n",
      "\tFinished cross validation - mean R2: 0.984\n",
      "Random Forest Regressor w/ Imputer:\n",
      "\tStarting cross validation\n",
      "\tFinished cross validation - mean R2: 0.984\n",
      "Random Forest Regressor w/ Imputer:\n",
      "\tStarting cross validation\n",
      "\tFinished cross validation - mean R2: 0.984\n",
      "Random Forest Regressor w/ Imputer:\n",
      "\tStarting cross validation\n",
      "\tFinished cross validation - mean R2: 0.984\n",
      "Random Forest Regressor w/ Imputer:\n",
      "\tStarting cross validation\n",
      "\tFinished cross validation - mean R2: 0.984\n",
      "\n",
      "******************************\n",
      "* Evaluating Batch Number 29 *\n",
      "******************************\n",
      "\n",
      "Extra Trees Regressor w/ Imputer:\n",
      "\tStarting cross validation\n",
      "\tFinished cross validation - mean R2: 0.790\n",
      "Extra Trees Regressor w/ Imputer:\n",
      "\tStarting cross validation\n",
      "\tFinished cross validation - mean R2: 0.790\n",
      "Extra Trees Regressor w/ Imputer:\n",
      "\tStarting cross validation\n",
      "\tFinished cross validation - mean R2: 0.790\n",
      "Extra Trees Regressor w/ Imputer:\n",
      "\tStarting cross validation\n",
      "\tFinished cross validation - mean R2: 0.790\n",
      "Extra Trees Regressor w/ Imputer:\n",
      "\tStarting cross validation\n",
      "\tFinished cross validation - mean R2: 0.790\n",
      "\n",
      "******************************\n",
      "* Evaluating Batch Number 30 *\n",
      "******************************\n",
      "\n",
      "Decision Tree Regressor w/ Imputer:\n",
      "\tStarting cross validation\n",
      "\tFinished cross validation - mean R2: 0.939\n",
      "Decision Tree Regressor w/ Imputer:\n",
      "\tStarting cross validation\n",
      "\tFinished cross validation - mean R2: 0.939\n",
      "Decision Tree Regressor w/ Imputer:\n",
      "\tStarting cross validation\n",
      "\tFinished cross validation - mean R2: 0.939\n",
      "Decision Tree Regressor w/ Imputer:\n",
      "\tStarting cross validation\n",
      "\tFinished cross validation - mean R2: 0.939\n",
      "Decision Tree Regressor w/ Imputer:\n",
      "\tStarting cross validation\n",
      "\tFinished cross validation - mean R2: 0.939\n",
      "\n",
      "******************************\n",
      "* Evaluating Batch Number 31 *\n",
      "******************************\n",
      "\n",
      "Linear Regressor w/ Imputer + Standard Scaler:\n",
      "\tStarting cross validation\n",
      "\tFinished cross validation - mean R2: 0.751\n",
      "Linear Regressor w/ Imputer + Standard Scaler:\n",
      "\tStarting cross validation\n",
      "\tFinished cross validation - mean R2: 0.751\n",
      "Linear Regressor w/ Imputer + Standard Scaler:\n",
      "\tStarting cross validation\n",
      "\tFinished cross validation - mean R2: 0.751\n",
      "Linear Regressor w/ Imputer + Standard Scaler:\n",
      "\tStarting cross validation\n",
      "\tFinished cross validation - mean R2: 0.751\n",
      "Linear Regressor w/ Imputer + Standard Scaler:\n",
      "\tStarting cross validation\n",
      "\tFinished cross validation - mean R2: 0.751\n",
      "\n",
      "******************************\n",
      "* Evaluating Batch Number 32 *\n",
      "******************************\n",
      "\n",
      "Elastic Net Regressor w/ Imputer + Standard Scaler:\n",
      "\tStarting cross validation\n",
      "\tFinished cross validation - mean R2: 0.637\n",
      "Elastic Net Regressor w/ Imputer + Standard Scaler:\n",
      "\tStarting cross validation\n",
      "\tFinished cross validation - mean R2: 0.637\n",
      "Elastic Net Regressor w/ Imputer + Standard Scaler:\n",
      "\tStarting cross validation\n",
      "\tFinished cross validation - mean R2: 0.637\n",
      "Elastic Net Regressor w/ Imputer + Standard Scaler:\n",
      "\tStarting cross validation\n",
      "\tFinished cross validation - mean R2: 0.637\n",
      "Elastic Net Regressor w/ Imputer + Standard Scaler:\n",
      "\tStarting cross validation\n",
      "\tFinished cross validation - mean R2: 0.637\n",
      "\n",
      "******************************\n",
      "* Evaluating Batch Number 33 *\n",
      "******************************\n",
      "\n",
      "CatBoost Regressor w/ Imputer:\n",
      "\tStarting cross validation\n",
      "\tFinished cross validation - mean R2: 0.987\n",
      "CatBoost Regressor w/ Imputer:\n",
      "\tStarting cross validation\n",
      "\tFinished cross validation - mean R2: 0.987\n",
      "CatBoost Regressor w/ Imputer:\n",
      "\tStarting cross validation\n",
      "\tFinished cross validation - mean R2: 0.987\n",
      "CatBoost Regressor w/ Imputer:\n",
      "\tStarting cross validation\n",
      "\tFinished cross validation - mean R2: 0.987\n",
      "CatBoost Regressor w/ Imputer:\n",
      "\tStarting cross validation\n",
      "\tFinished cross validation - mean R2: 0.987\n",
      "\n",
      "******************************\n",
      "* Evaluating Batch Number 34 *\n",
      "******************************\n",
      "\n",
      "XGBoost Regressor w/ Imputer:\n",
      "\tStarting cross validation\n",
      "\tFinished cross validation - mean R2: 0.985\n",
      "XGBoost Regressor w/ Imputer:\n",
      "\tStarting cross validation\n",
      "\tFinished cross validation - mean R2: 0.985\n",
      "XGBoost Regressor w/ Imputer:\n",
      "\tStarting cross validation\n",
      "\tFinished cross validation - mean R2: 0.985\n",
      "XGBoost Regressor w/ Imputer:\n",
      "\tStarting cross validation\n",
      "\tFinished cross validation - mean R2: 0.985\n",
      "XGBoost Regressor w/ Imputer:\n",
      "\tStarting cross validation\n",
      "\tFinished cross validation - mean R2: 0.985\n",
      "\n",
      "******************************\n",
      "* Evaluating Batch Number 35 *\n",
      "******************************\n",
      "\n",
      "LightGBM Regressor w/ Imputer:\n",
      "\tStarting cross validation\n",
      "\tFinished cross validation - mean R2: 0.809\n",
      "LightGBM Regressor w/ Imputer:\n",
      "\tStarting cross validation\n",
      "\tFinished cross validation - mean R2: 0.809\n",
      "LightGBM Regressor w/ Imputer:\n",
      "\tStarting cross validation\n",
      "\tFinished cross validation - mean R2: 0.809\n",
      "LightGBM Regressor w/ Imputer:\n",
      "\tStarting cross validation\n",
      "\tFinished cross validation - mean R2: 0.809\n",
      "LightGBM Regressor w/ Imputer:\n",
      "\tStarting cross validation\n",
      "\tFinished cross validation - mean R2: 0.809\n",
      "\n",
      "******************************\n",
      "* Evaluating Batch Number 36 *\n",
      "******************************\n",
      "\n",
      "Random Forest Regressor w/ Imputer:\n",
      "\tStarting cross validation\n",
      "\tFinished cross validation - mean R2: 0.984\n",
      "\n",
      "Search finished after 20:04            \n",
      "Best pipeline: XGBoost Regressor w/ Imputer\n",
      "Best pipeline R2: 0.990865\n"
     ]
    }
   ],
   "source": [
    "# run model\n",
    "model_evalml = AutoMLSearch(X_train=X, y_train=y, problem_type='regression', max_time=1200) # 20 minutes\n",
    "model_evalml.search()"
   ]
  },
  {
   "cell_type": "markdown",
   "id": "cf60ef42",
   "metadata": {
    "papermill": {
     "duration": 0.301572,
     "end_time": "2022-05-15T12:46:07.740746",
     "exception": false,
     "start_time": "2022-05-15T12:46:07.439174",
     "status": "completed"
    },
    "tags": []
   },
   "source": [
    "### Leaderboard"
   ]
  },
  {
   "cell_type": "code",
   "execution_count": 18,
   "id": "196fa914",
   "metadata": {
    "execution": {
     "iopub.execute_input": "2022-05-15T12:46:08.348664Z",
     "iopub.status.busy": "2022-05-15T12:46:08.348353Z",
     "iopub.status.idle": "2022-05-15T12:46:08.381806Z",
     "shell.execute_reply": "2022-05-15T12:46:08.380971Z"
    },
    "papermill": {
     "duration": 0.338865,
     "end_time": "2022-05-15T12:46:08.383946",
     "exception": false,
     "start_time": "2022-05-15T12:46:08.045081",
     "status": "completed"
    },
    "tags": []
   },
   "outputs": [
    {
     "data": {
      "text/html": [
       "<div>\n",
       "<style scoped>\n",
       "    .dataframe tbody tr th:only-of-type {\n",
       "        vertical-align: middle;\n",
       "    }\n",
       "\n",
       "    .dataframe tbody tr th {\n",
       "        vertical-align: top;\n",
       "    }\n",
       "\n",
       "    .dataframe thead th {\n",
       "        text-align: right;\n",
       "    }\n",
       "</style>\n",
       "<table border=\"1\" class=\"dataframe\">\n",
       "  <thead>\n",
       "    <tr style=\"text-align: right;\">\n",
       "      <th></th>\n",
       "      <th>id</th>\n",
       "      <th>pipeline_name</th>\n",
       "      <th>search_order</th>\n",
       "      <th>mean_cv_score</th>\n",
       "      <th>standard_deviation_cv_score</th>\n",
       "      <th>validation_score</th>\n",
       "      <th>percent_better_than_baseline</th>\n",
       "      <th>high_variance_cv</th>\n",
       "      <th>parameters</th>\n",
       "    </tr>\n",
       "  </thead>\n",
       "  <tbody>\n",
       "    <tr>\n",
       "      <th>0</th>\n",
       "      <td>51</td>\n",
       "      <td>XGBoost Regressor w/ Imputer</td>\n",
       "      <td>51</td>\n",
       "      <td>0.990865</td>\n",
       "      <td>0.000286</td>\n",
       "      <td>0.990661</td>\n",
       "      <td>213014.020953</td>\n",
       "      <td>False</td>\n",
       "      <td>{'Imputer': {'categorical_impute_strategy': 'm...</td>\n",
       "    </tr>\n",
       "    <tr>\n",
       "      <th>3</th>\n",
       "      <td>55</td>\n",
       "      <td>LightGBM Regressor w/ Imputer</td>\n",
       "      <td>55</td>\n",
       "      <td>0.987985</td>\n",
       "      <td>0.001025</td>\n",
       "      <td>0.987290</td>\n",
       "      <td>212395.140111</td>\n",
       "      <td>False</td>\n",
       "      <td>{'Imputer': {'categorical_impute_strategy': 'm...</td>\n",
       "    </tr>\n",
       "    <tr>\n",
       "      <th>5</th>\n",
       "      <td>168</td>\n",
       "      <td>CatBoost Regressor w/ Imputer</td>\n",
       "      <td>168</td>\n",
       "      <td>0.986742</td>\n",
       "      <td>0.000353</td>\n",
       "      <td>0.986974</td>\n",
       "      <td>212128.132262</td>\n",
       "      <td>False</td>\n",
       "      <td>{'Imputer': {'categorical_impute_strategy': 'm...</td>\n",
       "    </tr>\n",
       "    <tr>\n",
       "      <th>19</th>\n",
       "      <td>100</td>\n",
       "      <td>Random Forest Regressor w/ Imputer</td>\n",
       "      <td>100</td>\n",
       "      <td>0.984225</td>\n",
       "      <td>0.002860</td>\n",
       "      <td>0.984149</td>\n",
       "      <td>211587.325917</td>\n",
       "      <td>False</td>\n",
       "      <td>{'Imputer': {'categorical_impute_strategy': 'm...</td>\n",
       "    </tr>\n",
       "    <tr>\n",
       "      <th>73</th>\n",
       "      <td>104</td>\n",
       "      <td>Extra Trees Regressor w/ Imputer</td>\n",
       "      <td>104</td>\n",
       "      <td>0.948602</td>\n",
       "      <td>0.005557</td>\n",
       "      <td>0.954687</td>\n",
       "      <td>203932.741121</td>\n",
       "      <td>False</td>\n",
       "      <td>{'Imputer': {'categorical_impute_strategy': 'm...</td>\n",
       "    </tr>\n",
       "    <tr>\n",
       "      <th>79</th>\n",
       "      <td>149</td>\n",
       "      <td>Decision Tree Regressor w/ Imputer</td>\n",
       "      <td>149</td>\n",
       "      <td>0.938524</td>\n",
       "      <td>0.016089</td>\n",
       "      <td>0.944325</td>\n",
       "      <td>201767.184019</td>\n",
       "      <td>False</td>\n",
       "      <td>{'Imputer': {'categorical_impute_strategy': 'm...</td>\n",
       "    </tr>\n",
       "    <tr>\n",
       "      <th>120</th>\n",
       "      <td>38</td>\n",
       "      <td>Linear Regressor w/ Imputer + Standard Scaler</td>\n",
       "      <td>38</td>\n",
       "      <td>0.750882</td>\n",
       "      <td>0.007047</td>\n",
       "      <td>0.755113</td>\n",
       "      <td>161447.243636</td>\n",
       "      <td>False</td>\n",
       "      <td>{'Imputer': {'categorical_impute_strategy': 'm...</td>\n",
       "    </tr>\n",
       "    <tr>\n",
       "      <th>142</th>\n",
       "      <td>5</td>\n",
       "      <td>Elastic Net Regressor w/ Imputer + Standard Sc...</td>\n",
       "      <td>5</td>\n",
       "      <td>0.741675</td>\n",
       "      <td>0.008865</td>\n",
       "      <td>0.744859</td>\n",
       "      <td>159468.871192</td>\n",
       "      <td>False</td>\n",
       "      <td>{'Imputer': {'categorical_impute_strategy': 'm...</td>\n",
       "    </tr>\n",
       "    <tr>\n",
       "      <th>174</th>\n",
       "      <td>0</td>\n",
       "      <td>Mean Baseline Regression Pipeline</td>\n",
       "      <td>0</td>\n",
       "      <td>-0.000465</td>\n",
       "      <td>0.000410</td>\n",
       "      <td>-0.000033</td>\n",
       "      <td>0.000000</td>\n",
       "      <td>True</td>\n",
       "      <td>{'Baseline Regressor': {'strategy': 'mean'}}</td>\n",
       "    </tr>\n",
       "  </tbody>\n",
       "</table>\n",
       "</div>"
      ],
      "text/plain": [
       "      id                                      pipeline_name  search_order  \\\n",
       "0     51                       XGBoost Regressor w/ Imputer            51   \n",
       "3     55                      LightGBM Regressor w/ Imputer            55   \n",
       "5    168                      CatBoost Regressor w/ Imputer           168   \n",
       "19   100                 Random Forest Regressor w/ Imputer           100   \n",
       "73   104                   Extra Trees Regressor w/ Imputer           104   \n",
       "79   149                 Decision Tree Regressor w/ Imputer           149   \n",
       "120   38      Linear Regressor w/ Imputer + Standard Scaler            38   \n",
       "142    5  Elastic Net Regressor w/ Imputer + Standard Sc...             5   \n",
       "174    0                  Mean Baseline Regression Pipeline             0   \n",
       "\n",
       "     mean_cv_score  standard_deviation_cv_score  validation_score  \\\n",
       "0         0.990865                     0.000286          0.990661   \n",
       "3         0.987985                     0.001025          0.987290   \n",
       "5         0.986742                     0.000353          0.986974   \n",
       "19        0.984225                     0.002860          0.984149   \n",
       "73        0.948602                     0.005557          0.954687   \n",
       "79        0.938524                     0.016089          0.944325   \n",
       "120       0.750882                     0.007047          0.755113   \n",
       "142       0.741675                     0.008865          0.744859   \n",
       "174      -0.000465                     0.000410         -0.000033   \n",
       "\n",
       "     percent_better_than_baseline  high_variance_cv  \\\n",
       "0                   213014.020953             False   \n",
       "3                   212395.140111             False   \n",
       "5                   212128.132262             False   \n",
       "19                  211587.325917             False   \n",
       "73                  203932.741121             False   \n",
       "79                  201767.184019             False   \n",
       "120                 161447.243636             False   \n",
       "142                 159468.871192             False   \n",
       "174                      0.000000              True   \n",
       "\n",
       "                                            parameters  \n",
       "0    {'Imputer': {'categorical_impute_strategy': 'm...  \n",
       "3    {'Imputer': {'categorical_impute_strategy': 'm...  \n",
       "5    {'Imputer': {'categorical_impute_strategy': 'm...  \n",
       "19   {'Imputer': {'categorical_impute_strategy': 'm...  \n",
       "73   {'Imputer': {'categorical_impute_strategy': 'm...  \n",
       "79   {'Imputer': {'categorical_impute_strategy': 'm...  \n",
       "120  {'Imputer': {'categorical_impute_strategy': 'm...  \n",
       "142  {'Imputer': {'categorical_impute_strategy': 'm...  \n",
       "174       {'Baseline Regressor': {'strategy': 'mean'}}  "
      ]
     },
     "execution_count": 18,
     "metadata": {},
     "output_type": "execute_result"
    }
   ],
   "source": [
    "# check leaderboard\n",
    "model_evalml.rankings"
   ]
  },
  {
   "cell_type": "markdown",
   "id": "4a172132",
   "metadata": {
    "papermill": {
     "duration": 0.320558,
     "end_time": "2022-05-15T12:46:09.010458",
     "exception": false,
     "start_time": "2022-05-15T12:46:08.689900",
     "status": "completed"
    },
    "tags": []
   },
   "source": [
    "### Feature Importance"
   ]
  },
  {
   "cell_type": "markdown",
   "id": "a123492a",
   "metadata": {
    "papermill": {
     "duration": 0.304409,
     "end_time": "2022-05-15T12:46:09.620290",
     "exception": false,
     "start_time": "2022-05-15T12:46:09.315881",
     "status": "completed"
    },
    "tags": []
   },
   "source": [
    "### Evaluate Model"
   ]
  },
  {
   "cell_type": "code",
   "execution_count": 19,
   "id": "50dfdcd4",
   "metadata": {
    "execution": {
     "iopub.execute_input": "2022-05-15T12:46:10.230090Z",
     "iopub.status.busy": "2022-05-15T12:46:10.229784Z",
     "iopub.status.idle": "2022-05-15T12:46:10.236291Z",
     "shell.execute_reply": "2022-05-15T12:46:10.235572Z"
    },
    "papermill": {
     "duration": 0.316267,
     "end_time": "2022-05-15T12:46:10.238022",
     "exception": false,
     "start_time": "2022-05-15T12:46:09.921755",
     "status": "completed"
    },
    "tags": []
   },
   "outputs": [],
   "source": [
    "import math\n",
    "from sklearn.metrics import r2_score, mean_squared_error, mean_absolute_error\n",
    "\n",
    "def evaluates_model(y_test, y_pred):\n",
    "    print(\"*\"*12, \"Evaluations\", \"*\"*12, '\\n')\n",
    "    \n",
    "    print(\"MAE model :\", mean_absolute_error(y_test, y_pred))\n",
    "    \n",
    "    print(\"MSE model :\", mean_squared_error(y_test, y_pred))\n",
    "    \n",
    "    print(\"R2_Score model :\", r2_score(y_test, y_pred))\n",
    "    \n",
    "    mse_1 = np.square(np.subtract(y_test,y_pred)).mean() \n",
    "    \n",
    "    print(\"RMSE model :\", math.sqrt(mse_1))"
   ]
  },
  {
   "cell_type": "code",
   "execution_count": 20,
   "id": "deae76d5",
   "metadata": {
    "execution": {
     "iopub.execute_input": "2022-05-15T12:46:10.848702Z",
     "iopub.status.busy": "2022-05-15T12:46:10.848414Z",
     "iopub.status.idle": "2022-05-15T12:46:10.856818Z",
     "shell.execute_reply": "2022-05-15T12:46:10.856176Z"
    },
    "papermill": {
     "duration": 0.318499,
     "end_time": "2022-05-15T12:46:10.858639",
     "exception": false,
     "start_time": "2022-05-15T12:46:10.540140",
     "status": "completed"
    },
    "tags": []
   },
   "outputs": [
    {
     "data": {
      "text/plain": [
       "pipeline = RegressionPipeline(component_graph={'Imputer': ['Imputer'], 'XGBoost Regressor': ['XGBoost Regressor', 'Imputer.x']}, parameters={'Imputer':{'categorical_impute_strategy': 'most_frequent', 'numeric_impute_strategy': 'mean', 'categorical_fill_value': None, 'numeric_fill_value': None}, 'XGBoost Regressor':{'eta': 0.03842638804730825, 'max_depth': 12, 'min_child_weight': 9.895364542533038, 'n_estimators': 965, 'n_jobs': -1}}, random_seed=0)"
      ]
     },
     "execution_count": 20,
     "metadata": {},
     "output_type": "execute_result"
    }
   ],
   "source": [
    "model_evalml.best_pipeline"
   ]
  },
  {
   "cell_type": "code",
   "execution_count": 21,
   "id": "366a8a0a",
   "metadata": {
    "execution": {
     "iopub.execute_input": "2022-05-15T12:46:11.476806Z",
     "iopub.status.busy": "2022-05-15T12:46:11.476513Z",
     "iopub.status.idle": "2022-05-15T12:46:11.703640Z",
     "shell.execute_reply": "2022-05-15T12:46:11.702617Z"
    },
    "papermill": {
     "duration": 0.53871,
     "end_time": "2022-05-15T12:46:11.705693",
     "exception": false,
     "start_time": "2022-05-15T12:46:11.166983",
     "status": "completed"
    },
    "tags": []
   },
   "outputs": [
    {
     "name": "stdout",
     "output_type": "stream",
     "text": [
      "************ Evaluations ************ \n",
      "\n",
      "MAE model : 0.009103630630309355\n",
      "MSE model : 0.00020197414423661712\n",
      "R2_Score model : 0.9999739388598132\n",
      "RMSE model : 4.448307648548899\n"
     ]
    }
   ],
   "source": [
    "pred = model_evalml.best_pipeline.predict(X_test)\n",
    "evaluates_model(y_test, pred)"
   ]
  },
  {
   "cell_type": "markdown",
   "id": "ad8a4495",
   "metadata": {
    "papermill": {
     "duration": 0.30454,
     "end_time": "2022-05-15T12:46:12.313492",
     "exception": false,
     "start_time": "2022-05-15T12:46:12.008952",
     "status": "completed"
    },
    "tags": []
   },
   "source": [
    "# Make a Test prediction\n"
   ]
  },
  {
   "cell_type": "code",
   "execution_count": 22,
   "id": "340c29d5",
   "metadata": {
    "execution": {
     "iopub.execute_input": "2022-05-15T12:46:12.921771Z",
     "iopub.status.busy": "2022-05-15T12:46:12.921438Z",
     "iopub.status.idle": "2022-05-15T12:46:13.208603Z",
     "shell.execute_reply": "2022-05-15T12:46:13.207680Z"
    },
    "papermill": {
     "duration": 0.593603,
     "end_time": "2022-05-15T12:46:13.210851",
     "exception": false,
     "start_time": "2022-05-15T12:46:12.617248",
     "status": "completed"
    },
    "tags": []
   },
   "outputs": [
    {
     "data": {
      "text/plain": [
       "1373"
      ]
     },
     "execution_count": 22,
     "metadata": {},
     "output_type": "execute_result"
    }
   ],
   "source": [
    "## generate predictions\n",
    "y_predict = model_evalml.best_pipeline.predict(test)\n",
    "\n",
    "len(y_predict)"
   ]
  },
  {
   "cell_type": "markdown",
   "id": "cee0cced",
   "metadata": {
    "papermill": {
     "duration": 0.307274,
     "end_time": "2022-05-15T12:46:13.822160",
     "exception": false,
     "start_time": "2022-05-15T12:46:13.514886",
     "status": "completed"
    },
    "tags": []
   },
   "source": [
    "# Submission"
   ]
  },
  {
   "cell_type": "code",
   "execution_count": 23,
   "id": "14c3cbb3",
   "metadata": {
    "execution": {
     "iopub.execute_input": "2022-05-15T12:46:14.434209Z",
     "iopub.status.busy": "2022-05-15T12:46:14.433893Z",
     "iopub.status.idle": "2022-05-15T12:46:14.455613Z",
     "shell.execute_reply": "2022-05-15T12:46:14.454946Z"
    },
    "papermill": {
     "duration": 0.328925,
     "end_time": "2022-05-15T12:46:14.457655",
     "exception": false,
     "start_time": "2022-05-15T12:46:14.128730",
     "status": "completed"
    },
    "tags": []
   },
   "outputs": [
    {
     "name": "stdout",
     "output_type": "stream",
     "text": [
      "(1373, 2)\n"
     ]
    },
    {
     "data": {
      "text/html": [
       "<div>\n",
       "<style scoped>\n",
       "    .dataframe tbody tr th:only-of-type {\n",
       "        vertical-align: middle;\n",
       "    }\n",
       "\n",
       "    .dataframe tbody tr th {\n",
       "        vertical-align: top;\n",
       "    }\n",
       "\n",
       "    .dataframe thead th {\n",
       "        text-align: right;\n",
       "    }\n",
       "</style>\n",
       "<table border=\"1\" class=\"dataframe\">\n",
       "  <thead>\n",
       "    <tr style=\"text-align: right;\">\n",
       "      <th></th>\n",
       "      <th>Id</th>\n",
       "      <th>Indoor_temperature_room</th>\n",
       "    </tr>\n",
       "  </thead>\n",
       "  <tbody>\n",
       "    <tr>\n",
       "      <th>0</th>\n",
       "      <td>2764</td>\n",
       "      <td>0.0</td>\n",
       "    </tr>\n",
       "    <tr>\n",
       "      <th>1</th>\n",
       "      <td>2765</td>\n",
       "      <td>0.0</td>\n",
       "    </tr>\n",
       "    <tr>\n",
       "      <th>2</th>\n",
       "      <td>2766</td>\n",
       "      <td>0.0</td>\n",
       "    </tr>\n",
       "    <tr>\n",
       "      <th>3</th>\n",
       "      <td>2767</td>\n",
       "      <td>0.0</td>\n",
       "    </tr>\n",
       "    <tr>\n",
       "      <th>4</th>\n",
       "      <td>2768</td>\n",
       "      <td>0.0</td>\n",
       "    </tr>\n",
       "  </tbody>\n",
       "</table>\n",
       "</div>"
      ],
      "text/plain": [
       "     Id  Indoor_temperature_room\n",
       "0  2764                      0.0\n",
       "1  2765                      0.0\n",
       "2  2766                      0.0\n",
       "3  2767                      0.0\n",
       "4  2768                      0.0"
      ]
     },
     "execution_count": 23,
     "metadata": {},
     "output_type": "execute_result"
    }
   ],
   "source": [
    "sub=pd.read_csv('../input/smart-homes-temperature-time-series-forecasting/sample_submission.csv')\n",
    "print(sub.shape)\n",
    "sub.head()"
   ]
  },
  {
   "cell_type": "code",
   "execution_count": 24,
   "id": "235b7c48",
   "metadata": {
    "_kg_hide-output": true,
    "collapsed": true,
    "execution": {
     "iopub.execute_input": "2022-05-15T12:46:15.069759Z",
     "iopub.status.busy": "2022-05-15T12:46:15.069200Z",
     "iopub.status.idle": "2022-05-15T12:46:33.546958Z",
     "shell.execute_reply": "2022-05-15T12:46:33.545980Z"
    },
    "jupyter": {
     "outputs_hidden": true
    },
    "papermill": {
     "duration": 18.787274,
     "end_time": "2022-05-15T12:46:33.549530",
     "exception": false,
     "start_time": "2022-05-15T12:46:14.762256",
     "status": "completed"
    },
    "tags": []
   },
   "outputs": [
    {
     "name": "stdout",
     "output_type": "stream",
     "text": [
      "Requirement already satisfied: pandas in /opt/conda/lib/python3.7/site-packages (1.2.4)\r\n",
      "Collecting pandas\r\n",
      "  Downloading pandas-1.3.5-cp37-cp37m-manylinux_2_17_x86_64.manylinux2014_x86_64.whl (11.3 MB)\r\n",
      "\u001b[2K     \u001b[90m━━━━━━━━━━━━━━━━━━━━━━━━━━━━━━━━━━━━━━━━\u001b[0m \u001b[32m11.3/11.3 MB\u001b[0m \u001b[31m24.2 MB/s\u001b[0m eta \u001b[36m0:00:00\u001b[0m\r\n",
      "\u001b[?25hRequirement already satisfied: pytz>=2017.3 in /opt/conda/lib/python3.7/site-packages (from pandas) (2021.3)\r\n",
      "Requirement already satisfied: numpy>=1.17.3 in /opt/conda/lib/python3.7/site-packages (from pandas) (1.21.6)\r\n",
      "Requirement already satisfied: python-dateutil>=2.7.3 in /opt/conda/lib/python3.7/site-packages (from pandas) (2.8.2)\r\n",
      "Requirement already satisfied: six>=1.5 in /opt/conda/lib/python3.7/site-packages (from python-dateutil>=2.7.3->pandas) (1.16.0)\r\n",
      "Installing collected packages: pandas\r\n",
      "  Attempting uninstall: pandas\r\n",
      "    Found existing installation: pandas 1.2.4\r\n",
      "    Uninstalling pandas-1.2.4:\r\n",
      "      Successfully uninstalled pandas-1.2.4\r\n",
      "\u001b[31mERROR: pip's dependency resolver does not currently take into account all the packages that are installed. This behaviour is the source of the following dependency conflicts.\r\n",
      "beatrix-jupyterlab 3.1.7 requires google-cloud-bigquery-storage, which is not installed.\r\n",
      "woodwork 0.4.2 requires pandas<1.2.5,>=1.2.0, but you have pandas 1.3.5 which is incompatible.\r\n",
      "tfx-bsl 1.7.0 requires pyarrow<6,>=1, but you have pyarrow 7.0.0 which is incompatible.\r\n",
      "tfx-bsl 1.7.0 requires tensorflow!=2.0.*,!=2.1.*,!=2.2.*,!=2.3.*,!=2.4.*,!=2.5.*,!=2.6.*,!=2.7.*,<3,>=1.15.5, but you have tensorflow 2.6.3 which is incompatible.\r\n",
      "tensorflow-transform 1.7.0 requires pyarrow<6,>=1, but you have pyarrow 7.0.0 which is incompatible.\r\n",
      "tensorflow-transform 1.7.0 requires tensorflow!=2.0.*,!=2.1.*,!=2.2.*,!=2.3.*,!=2.4.*,!=2.5.*,!=2.6.*,!=2.7.*,<2.9,>=1.15.5, but you have tensorflow 2.6.3 which is incompatible.\r\n",
      "pdpbox 0.2.1 requires matplotlib==3.1.1, but you have matplotlib 3.5.2 which is incompatible.\u001b[0m\u001b[31m\r\n",
      "\u001b[0mSuccessfully installed pandas-1.3.5\r\n",
      "\u001b[33mWARNING: Running pip as the 'root' user can result in broken permissions and conflicting behaviour with the system package manager. It is recommended to use a virtual environment instead: https://pip.pypa.io/warnings/venv\u001b[0m\u001b[33m\r\n",
      "\u001b[0m"
     ]
    }
   ],
   "source": [
    "!pip install pandas -U\n",
    "import pandas as pd"
   ]
  },
  {
   "cell_type": "code",
   "execution_count": 25,
   "id": "92e8e952",
   "metadata": {
    "execution": {
     "iopub.execute_input": "2022-05-15T12:46:34.180534Z",
     "iopub.status.busy": "2022-05-15T12:46:34.179926Z",
     "iopub.status.idle": "2022-05-15T12:46:34.202225Z",
     "shell.execute_reply": "2022-05-15T12:46:34.201195Z"
    },
    "papermill": {
     "duration": 0.340274,
     "end_time": "2022-05-15T12:46:34.204529",
     "exception": false,
     "start_time": "2022-05-15T12:46:33.864255",
     "status": "completed"
    },
    "tags": []
   },
   "outputs": [
    {
     "data": {
      "text/html": [
       "<div>\n",
       "<style scoped>\n",
       "    .dataframe tbody tr th:only-of-type {\n",
       "        vertical-align: middle;\n",
       "    }\n",
       "\n",
       "    .dataframe tbody tr th {\n",
       "        vertical-align: top;\n",
       "    }\n",
       "\n",
       "    .dataframe thead th {\n",
       "        text-align: right;\n",
       "    }\n",
       "</style>\n",
       "<table border=\"1\" class=\"dataframe\">\n",
       "  <thead>\n",
       "    <tr style=\"text-align: right;\">\n",
       "      <th></th>\n",
       "      <th>Id</th>\n",
       "      <th>Indoor_temperature_room</th>\n",
       "    </tr>\n",
       "  </thead>\n",
       "  <tbody>\n",
       "    <tr>\n",
       "      <th>0</th>\n",
       "      <td>2764</td>\n",
       "      <td>19.499954</td>\n",
       "    </tr>\n",
       "    <tr>\n",
       "      <th>1</th>\n",
       "      <td>2765</td>\n",
       "      <td>19.477037</td>\n",
       "    </tr>\n",
       "    <tr>\n",
       "      <th>2</th>\n",
       "      <td>2766</td>\n",
       "      <td>19.423576</td>\n",
       "    </tr>\n",
       "    <tr>\n",
       "      <th>3</th>\n",
       "      <td>2767</td>\n",
       "      <td>19.323776</td>\n",
       "    </tr>\n",
       "    <tr>\n",
       "      <th>4</th>\n",
       "      <td>2768</td>\n",
       "      <td>19.300669</td>\n",
       "    </tr>\n",
       "  </tbody>\n",
       "</table>\n",
       "</div>"
      ],
      "text/plain": [
       "     Id  Indoor_temperature_room\n",
       "0  2764                19.499954\n",
       "1  2765                19.477037\n",
       "2  2766                19.423576\n",
       "3  2767                19.323776\n",
       "4  2768                19.300669"
      ]
     },
     "execution_count": 25,
     "metadata": {},
     "output_type": "execute_result"
    }
   ],
   "source": [
    "sub['Indoor_temperature_room']=y_predict\n",
    "sub.to_csv('submission.csv', index=False)\n",
    "sub.head()"
   ]
  },
  {
   "cell_type": "code",
   "execution_count": null,
   "id": "d9a6d78c",
   "metadata": {
    "papermill": {
     "duration": 0.316282,
     "end_time": "2022-05-15T12:46:34.833922",
     "exception": false,
     "start_time": "2022-05-15T12:46:34.517640",
     "status": "completed"
    },
    "tags": []
   },
   "outputs": [],
   "source": []
  },
  {
   "cell_type": "markdown",
   "id": "680548f6",
   "metadata": {
    "papermill": {
     "duration": 0.316382,
     "end_time": "2022-05-15T12:46:35.464150",
     "exception": false,
     "start_time": "2022-05-15T12:46:35.147768",
     "status": "completed"
    },
    "tags": []
   },
   "source": [
    "# What Next ?\n",
    "\n",
    "- Try to use a EvalML [Time Serie solution](https://evalml.alteryx.com/en/stable/user_guide/timeseries.html#)\n",
    "- Experiment with other Feature Engineering\n",
    "- Experiment with other AutoML algorithms (like H20, MLJAR)"
   ]
  },
  {
   "cell_type": "markdown",
   "id": "a2331d19",
   "metadata": {
    "papermill": {
     "duration": 0.398599,
     "end_time": "2022-05-15T12:46:36.181365",
     "exception": false,
     "start_time": "2022-05-15T12:46:35.782766",
     "status": "completed"
    },
    "tags": []
   },
   "source": [
    "# Ressources\n",
    "\n",
    "- Feature Engineering, Data Clean: @gauravduttakiit [work](https://www.kaggle.com/code/gauravduttakiit/smart-home-s-temperature-flaml-mae)\n",
    "- EvalML documentation : https://evalml.alteryx.com/en/stable/index.html"
   ]
  },
  {
   "cell_type": "markdown",
   "id": "f1053b19",
   "metadata": {
    "papermill": {
     "duration": 0.317738,
     "end_time": "2022-05-15T12:46:36.813362",
     "exception": false,
     "start_time": "2022-05-15T12:46:36.495624",
     "status": "completed"
    },
    "tags": []
   },
   "source": [
    "<center>\n",
    "    <h1 style=\"color:#021f46\"> I hope you learned something new today 🙃 \n",
    "        Thanks for reading  </h1>"
   ]
  },
  {
   "cell_type": "code",
   "execution_count": null,
   "id": "1b97464d",
   "metadata": {
    "papermill": {
     "duration": 0.313667,
     "end_time": "2022-05-15T12:46:37.440343",
     "exception": false,
     "start_time": "2022-05-15T12:46:37.126676",
     "status": "completed"
    },
    "tags": []
   },
   "outputs": [],
   "source": []
  }
 ],
 "metadata": {
  "kernelspec": {
   "display_name": "Python 3",
   "language": "python",
   "name": "python3"
  },
  "language_info": {
   "codemirror_mode": {
    "name": "ipython",
    "version": 3
   },
   "file_extension": ".py",
   "mimetype": "text/x-python",
   "name": "python",
   "nbconvert_exporter": "python",
   "pygments_lexer": "ipython3",
   "version": "3.7.12"
  },
  "papermill": {
   "default_parameters": {},
   "duration": 1359.409699,
   "end_time": "2022-05-15T12:46:39.485570",
   "environment_variables": {},
   "exception": null,
   "input_path": "__notebook__.ipynb",
   "output_path": "__notebook__.ipynb",
   "parameters": {},
   "start_time": "2022-05-15T12:24:00.075871",
   "version": "2.3.4"
  },
  "widgets": {
   "application/vnd.jupyter.widget-state+json": {
    "state": {
     "b4c2f006480e431ebba17798419623fc": {
      "model_module": "jupyterlab-plotly",
      "model_module_version": "^5.8.0",
      "model_name": "FigureModel",
      "state": {
       "_config": {
        "plotlyServerURL": "https://plot.ly"
       },
       "_data": [
        {
         "mode": "lines+markers",
         "name": "Best Score",
         "type": "scatter",
         "uid": "a4d20944-cf03-41b3-b7d8-0830810c065c",
         "x": [],
         "y": []
        },
        {
         "marker": {
          "color": "gray"
         },
         "mode": "markers",
         "name": "Iter score",
         "type": "scatter",
         "uid": "4c1955c8-3ec2-4e74-b0c5-485987844762",
         "x": [],
         "y": []
        }
       ],
       "_dom_classes": [],
       "_js2py_layoutDelta": {},
       "_js2py_pointsCallback": {},
       "_js2py_relayout": {},
       "_js2py_restyle": {},
       "_js2py_traceDeltas": {},
       "_js2py_update": {},
       "_last_layout_edit_id": 721,
       "_last_trace_edit_id": 721,
       "_layout": {
        "title": {
         "text": "Pipeline Search: Iteration vs. R2<br><sub>Gray marker indicates the score at current iteration</sub>"
        },
        "xaxis": {
         "rangemode": "tozero",
         "title": {
          "text": "Iteration"
         }
        },
        "yaxis": {
         "title": {
          "text": "Score"
         }
        }
       },
       "_model_module": "jupyterlab-plotly",
       "_model_module_version": "^5.8.0",
       "_model_name": "FigureModel",
       "_py2js_addTraces": {},
       "_py2js_animate": {},
       "_py2js_deleteTraces": {},
       "_py2js_moveTraces": {},
       "_py2js_relayout": null,
       "_py2js_removeLayoutProps": {},
       "_py2js_removeTraceProps": {},
       "_py2js_restyle": null,
       "_py2js_update": null,
       "_view_count": 0,
       "_view_module": "jupyterlab-plotly",
       "_view_module_version": "^5.8.0",
       "_view_name": "FigureView"
      }
     }
    },
    "version_major": 2,
    "version_minor": 0
   }
  }
 },
 "nbformat": 4,
 "nbformat_minor": 5
}
