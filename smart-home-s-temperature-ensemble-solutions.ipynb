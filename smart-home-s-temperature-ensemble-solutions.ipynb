{
 "cells": [
  {
   "cell_type": "markdown",
   "id": "dd4ad103",
   "metadata": {
    "papermill": {
     "duration": 0.003538,
     "end_time": "2022-07-25T21:31:50.978493",
     "exception": false,
     "start_time": "2022-07-25T21:31:50.974955",
     "status": "completed"
    },
    "tags": []
   },
   "source": [
    "# Smart Home's Temperature : Ensemble Best Public Solution\n",
    "\n",
    "\n",
    "Datasets :\n",
    "- Thanks @rinichristy for your [work](https://www.kaggle.com/code/rinichristy/bi-uni-lstm-rnns-for-temperature-forecasting)\n",
    "- Thanks @carlmcbrideellis for your [work](https://www.kaggle.com/code/carlmcbrideellis/multivariate-time-series-forecasting-linear-tree/data?scriptVersionId=95731548)"
   ]
  },
  {
   "cell_type": "code",
   "execution_count": 1,
   "id": "1283eb82",
   "metadata": {
    "_cell_guid": "b1076dfc-b9ad-4769-8c92-a6c4dae69d19",
    "_kg_hide-input": true,
    "_uuid": "8f2839f25d086af736a60e9eeb907d3b93b6e0e5",
    "execution": {
     "iopub.execute_input": "2022-07-25T21:31:50.986102Z",
     "iopub.status.busy": "2022-07-25T21:31:50.985419Z",
     "iopub.status.idle": "2022-07-25T21:31:50.995516Z",
     "shell.execute_reply": "2022-07-25T21:31:50.994664Z"
    },
    "papermill": {
     "duration": 0.016553,
     "end_time": "2022-07-25T21:31:50.997817",
     "exception": false,
     "start_time": "2022-07-25T21:31:50.981264",
     "status": "completed"
    },
    "tags": []
   },
   "outputs": [],
   "source": [
    "import numpy as np # linear algebra\n",
    "import pandas as pd # data processing, CSV file I/O (e.g. pd.read_csv)"
   ]
  },
  {
   "cell_type": "markdown",
   "id": "c65fe286",
   "metadata": {
    "papermill": {
     "duration": 0.00228,
     "end_time": "2022-07-25T21:31:51.002769",
     "exception": false,
     "start_time": "2022-07-25T21:31:51.000489",
     "status": "completed"
    },
    "tags": []
   },
   "source": [
    "# Loading Data"
   ]
  },
  {
   "cell_type": "code",
   "execution_count": 2,
   "id": "18cd497d",
   "metadata": {
    "execution": {
     "iopub.execute_input": "2022-07-25T21:31:51.010036Z",
     "iopub.status.busy": "2022-07-25T21:31:51.009354Z",
     "iopub.status.idle": "2022-07-25T21:31:51.056217Z",
     "shell.execute_reply": "2022-07-25T21:31:51.054879Z"
    },
    "papermill": {
     "duration": 0.053287,
     "end_time": "2022-07-25T21:31:51.058733",
     "exception": false,
     "start_time": "2022-07-25T21:31:51.005446",
     "status": "completed"
    },
    "tags": []
   },
   "outputs": [
    {
     "data": {
      "text/html": [
       "<div>\n",
       "<style scoped>\n",
       "    .dataframe tbody tr th:only-of-type {\n",
       "        vertical-align: middle;\n",
       "    }\n",
       "\n",
       "    .dataframe tbody tr th {\n",
       "        vertical-align: top;\n",
       "    }\n",
       "\n",
       "    .dataframe thead th {\n",
       "        text-align: right;\n",
       "    }\n",
       "</style>\n",
       "<table border=\"1\" class=\"dataframe\">\n",
       "  <thead>\n",
       "    <tr style=\"text-align: right;\">\n",
       "      <th></th>\n",
       "      <th>Id</th>\n",
       "      <th>Indoor_temperature_room</th>\n",
       "    </tr>\n",
       "  </thead>\n",
       "  <tbody>\n",
       "    <tr>\n",
       "      <th>count</th>\n",
       "      <td>1373.000000</td>\n",
       "      <td>1373.000000</td>\n",
       "    </tr>\n",
       "    <tr>\n",
       "      <th>mean</th>\n",
       "      <td>3450.000000</td>\n",
       "      <td>22.625548</td>\n",
       "    </tr>\n",
       "    <tr>\n",
       "      <th>std</th>\n",
       "      <td>396.495271</td>\n",
       "      <td>2.112506</td>\n",
       "    </tr>\n",
       "    <tr>\n",
       "      <th>min</th>\n",
       "      <td>2764.000000</td>\n",
       "      <td>17.885376</td>\n",
       "    </tr>\n",
       "    <tr>\n",
       "      <th>25%</th>\n",
       "      <td>3107.000000</td>\n",
       "      <td>20.965408</td>\n",
       "    </tr>\n",
       "    <tr>\n",
       "      <th>50%</th>\n",
       "      <td>3450.000000</td>\n",
       "      <td>22.639082</td>\n",
       "    </tr>\n",
       "    <tr>\n",
       "      <th>75%</th>\n",
       "      <td>3793.000000</td>\n",
       "      <td>24.611397</td>\n",
       "    </tr>\n",
       "    <tr>\n",
       "      <th>max</th>\n",
       "      <td>4136.000000</td>\n",
       "      <td>25.877293</td>\n",
       "    </tr>\n",
       "  </tbody>\n",
       "</table>\n",
       "</div>"
      ],
      "text/plain": [
       "                Id  Indoor_temperature_room\n",
       "count  1373.000000              1373.000000\n",
       "mean   3450.000000                22.625548\n",
       "std     396.495271                 2.112506\n",
       "min    2764.000000                17.885376\n",
       "25%    3107.000000                20.965408\n",
       "50%    3450.000000                22.639082\n",
       "75%    3793.000000                24.611397\n",
       "max    4136.000000                25.877293"
      ]
     },
     "execution_count": 2,
     "metadata": {},
     "output_type": "execute_result"
    }
   ],
   "source": [
    "data = pd.read_csv('../input/bi-uni-lstm-rnns-for-temperature-forecasting/submission.csv')\n",
    "data.describe()"
   ]
  },
  {
   "cell_type": "code",
   "execution_count": 3,
   "id": "1183dcc9",
   "metadata": {
    "execution": {
     "iopub.execute_input": "2022-07-25T21:31:51.066183Z",
     "iopub.status.busy": "2022-07-25T21:31:51.065787Z",
     "iopub.status.idle": "2022-07-25T21:31:51.094399Z",
     "shell.execute_reply": "2022-07-25T21:31:51.093315Z"
    },
    "papermill": {
     "duration": 0.034791,
     "end_time": "2022-07-25T21:31:51.096505",
     "exception": false,
     "start_time": "2022-07-25T21:31:51.061714",
     "status": "completed"
    },
    "tags": []
   },
   "outputs": [
    {
     "data": {
      "text/html": [
       "<div>\n",
       "<style scoped>\n",
       "    .dataframe tbody tr th:only-of-type {\n",
       "        vertical-align: middle;\n",
       "    }\n",
       "\n",
       "    .dataframe tbody tr th {\n",
       "        vertical-align: top;\n",
       "    }\n",
       "\n",
       "    .dataframe thead th {\n",
       "        text-align: right;\n",
       "    }\n",
       "</style>\n",
       "<table border=\"1\" class=\"dataframe\">\n",
       "  <thead>\n",
       "    <tr style=\"text-align: right;\">\n",
       "      <th></th>\n",
       "      <th>Id</th>\n",
       "      <th>Indoor_temperature_room</th>\n",
       "    </tr>\n",
       "  </thead>\n",
       "  <tbody>\n",
       "    <tr>\n",
       "      <th>count</th>\n",
       "      <td>1373.000000</td>\n",
       "      <td>1373.000000</td>\n",
       "    </tr>\n",
       "    <tr>\n",
       "      <th>mean</th>\n",
       "      <td>3450.000000</td>\n",
       "      <td>21.872244</td>\n",
       "    </tr>\n",
       "    <tr>\n",
       "      <th>std</th>\n",
       "      <td>396.495271</td>\n",
       "      <td>2.464710</td>\n",
       "    </tr>\n",
       "    <tr>\n",
       "      <th>min</th>\n",
       "      <td>2764.000000</td>\n",
       "      <td>15.385257</td>\n",
       "    </tr>\n",
       "    <tr>\n",
       "      <th>25%</th>\n",
       "      <td>3107.000000</td>\n",
       "      <td>20.436038</td>\n",
       "    </tr>\n",
       "    <tr>\n",
       "      <th>50%</th>\n",
       "      <td>3450.000000</td>\n",
       "      <td>21.784935</td>\n",
       "    </tr>\n",
       "    <tr>\n",
       "      <th>75%</th>\n",
       "      <td>3793.000000</td>\n",
       "      <td>23.687974</td>\n",
       "    </tr>\n",
       "    <tr>\n",
       "      <th>max</th>\n",
       "      <td>4136.000000</td>\n",
       "      <td>26.503269</td>\n",
       "    </tr>\n",
       "  </tbody>\n",
       "</table>\n",
       "</div>"
      ],
      "text/plain": [
       "                Id  Indoor_temperature_room\n",
       "count  1373.000000              1373.000000\n",
       "mean   3450.000000                21.872244\n",
       "std     396.495271                 2.464710\n",
       "min    2764.000000                15.385257\n",
       "25%    3107.000000                20.436038\n",
       "50%    3450.000000                21.784935\n",
       "75%    3793.000000                23.687974\n",
       "max    4136.000000                26.503269"
      ]
     },
     "execution_count": 3,
     "metadata": {},
     "output_type": "execute_result"
    }
   ],
   "source": [
    "data1 = pd.read_csv('../input/smart-homes-temperature-score-222368/submission.csv')\n",
    "data1.describe()"
   ]
  },
  {
   "cell_type": "code",
   "execution_count": 4,
   "id": "4500ca1b",
   "metadata": {
    "execution": {
     "iopub.execute_input": "2022-07-25T21:31:51.104747Z",
     "iopub.status.busy": "2022-07-25T21:31:51.104095Z",
     "iopub.status.idle": "2022-07-25T21:31:51.108992Z",
     "shell.execute_reply": "2022-07-25T21:31:51.108218Z"
    },
    "papermill": {
     "duration": 0.011977,
     "end_time": "2022-07-25T21:31:51.111430",
     "exception": false,
     "start_time": "2022-07-25T21:31:51.099453",
     "status": "completed"
    },
    "tags": []
   },
   "outputs": [],
   "source": [
    "target = \"Indoor_temperature_room\""
   ]
  },
  {
   "cell_type": "markdown",
   "id": "61dd4b6c",
   "metadata": {
    "papermill": {
     "duration": 0.002698,
     "end_time": "2022-07-25T21:31:51.117279",
     "exception": false,
     "start_time": "2022-07-25T21:31:51.114581",
     "status": "completed"
    },
    "tags": []
   },
   "source": [
    "# Blending"
   ]
  },
  {
   "cell_type": "code",
   "execution_count": 5,
   "id": "3da327ae",
   "metadata": {
    "execution": {
     "iopub.execute_input": "2022-07-25T21:31:51.125263Z",
     "iopub.status.busy": "2022-07-25T21:31:51.124527Z",
     "iopub.status.idle": "2022-07-25T21:31:51.143005Z",
     "shell.execute_reply": "2022-07-25T21:31:51.141679Z"
    },
    "papermill": {
     "duration": 0.025603,
     "end_time": "2022-07-25T21:31:51.145886",
     "exception": false,
     "start_time": "2022-07-25T21:31:51.120283",
     "status": "completed"
    },
    "tags": []
   },
   "outputs": [
    {
     "data": {
      "text/html": [
       "<div>\n",
       "<style scoped>\n",
       "    .dataframe tbody tr th:only-of-type {\n",
       "        vertical-align: middle;\n",
       "    }\n",
       "\n",
       "    .dataframe tbody tr th {\n",
       "        vertical-align: top;\n",
       "    }\n",
       "\n",
       "    .dataframe thead th {\n",
       "        text-align: right;\n",
       "    }\n",
       "</style>\n",
       "<table border=\"1\" class=\"dataframe\">\n",
       "  <thead>\n",
       "    <tr style=\"text-align: right;\">\n",
       "      <th></th>\n",
       "      <th>Id</th>\n",
       "      <th>Indoor_temperature_room</th>\n",
       "    </tr>\n",
       "  </thead>\n",
       "  <tbody>\n",
       "    <tr>\n",
       "      <th>count</th>\n",
       "      <td>1373.000000</td>\n",
       "      <td>1373.000000</td>\n",
       "    </tr>\n",
       "    <tr>\n",
       "      <th>mean</th>\n",
       "      <td>3450.000000</td>\n",
       "      <td>22.542684</td>\n",
       "    </tr>\n",
       "    <tr>\n",
       "      <th>std</th>\n",
       "      <td>396.495271</td>\n",
       "      <td>2.117794</td>\n",
       "    </tr>\n",
       "    <tr>\n",
       "      <th>min</th>\n",
       "      <td>2764.000000</td>\n",
       "      <td>17.620783</td>\n",
       "    </tr>\n",
       "    <tr>\n",
       "      <th>25%</th>\n",
       "      <td>3107.000000</td>\n",
       "      <td>20.897237</td>\n",
       "    </tr>\n",
       "    <tr>\n",
       "      <th>50%</th>\n",
       "      <td>3450.000000</td>\n",
       "      <td>22.546247</td>\n",
       "    </tr>\n",
       "    <tr>\n",
       "      <th>75%</th>\n",
       "      <td>3793.000000</td>\n",
       "      <td>24.472056</td>\n",
       "    </tr>\n",
       "    <tr>\n",
       "      <th>max</th>\n",
       "      <td>4136.000000</td>\n",
       "      <td>25.923505</td>\n",
       "    </tr>\n",
       "  </tbody>\n",
       "</table>\n",
       "</div>"
      ],
      "text/plain": [
       "                Id  Indoor_temperature_room\n",
       "count  1373.000000              1373.000000\n",
       "mean   3450.000000                22.542684\n",
       "std     396.495271                 2.117794\n",
       "min    2764.000000                17.620783\n",
       "25%    3107.000000                20.897237\n",
       "50%    3450.000000                22.546247\n",
       "75%    3793.000000                24.472056\n",
       "max    4136.000000                25.923505"
      ]
     },
     "execution_count": 5,
     "metadata": {},
     "output_type": "execute_result"
    }
   ],
   "source": [
    "# Copy data\n",
    "sub = data.copy()\n",
    "\n",
    "# Blend\n",
    "sub[target] = data[target]*0.89 + data1[target]*0.11\n",
    "\n",
    "sub.describe()"
   ]
  },
  {
   "cell_type": "markdown",
   "id": "510b2be5",
   "metadata": {
    "papermill": {
     "duration": 0.002839,
     "end_time": "2022-07-25T21:31:51.151976",
     "exception": false,
     "start_time": "2022-07-25T21:31:51.149137",
     "status": "completed"
    },
    "tags": []
   },
   "source": [
    "# Submission"
   ]
  },
  {
   "cell_type": "code",
   "execution_count": 6,
   "id": "9fcec7ed",
   "metadata": {
    "execution": {
     "iopub.execute_input": "2022-07-25T21:31:51.159687Z",
     "iopub.status.busy": "2022-07-25T21:31:51.159339Z",
     "iopub.status.idle": "2022-07-25T21:31:51.170050Z",
     "shell.execute_reply": "2022-07-25T21:31:51.169015Z"
    },
    "papermill": {
     "duration": 0.017446,
     "end_time": "2022-07-25T21:31:51.172451",
     "exception": false,
     "start_time": "2022-07-25T21:31:51.155005",
     "status": "completed"
    },
    "tags": []
   },
   "outputs": [],
   "source": [
    "sub.to_csv(\"submission.csv\", index=False)"
   ]
  }
 ],
 "metadata": {
  "kernelspec": {
   "display_name": "Python 3",
   "language": "python",
   "name": "python3"
  },
  "language_info": {
   "codemirror_mode": {
    "name": "ipython",
    "version": 3
   },
   "file_extension": ".py",
   "mimetype": "text/x-python",
   "name": "python",
   "nbconvert_exporter": "python",
   "pygments_lexer": "ipython3",
   "version": "3.7.12"
  },
  "papermill": {
   "default_parameters": {},
   "duration": 9.452005,
   "end_time": "2022-07-25T21:31:51.796626",
   "environment_variables": {},
   "exception": null,
   "input_path": "__notebook__.ipynb",
   "output_path": "__notebook__.ipynb",
   "parameters": {},
   "start_time": "2022-07-25T21:31:42.344621",
   "version": "2.3.4"
  }
 },
 "nbformat": 4,
 "nbformat_minor": 5
}
